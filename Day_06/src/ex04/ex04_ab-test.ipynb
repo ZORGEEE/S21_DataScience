{
 "cells": [
  {
   "cell_type": "code",
   "execution_count": 1,
   "id": "5d4138e0",
   "metadata": {},
   "outputs": [],
   "source": [
    "import pandas as pd\n",
    "import sqlite3"
   ]
  },
  {
   "cell_type": "markdown",
   "id": "21394c60",
   "metadata": {},
   "source": [
    "## Create a connection to the database using the library sqlite3"
   ]
  },
  {
   "cell_type": "code",
   "execution_count": 2,
   "id": "e03a4c24",
   "metadata": {},
   "outputs": [],
   "source": [
    "con = sqlite3.connect(\"../data/Checking_Logs.sqlite\")"
   ]
  },
  {
   "cell_type": "markdown",
   "id": "bbb3d812",
   "metadata": {},
   "source": [
    "## Using only one query for each of the groups, create two dataframes: test_results and control_results with the columns time and avg_diff and only two rows\n",
    "  - time should have the values: after and before\n",
    "\n",
    "  - avg_diff contains the average delta among all the users for the time period before each of them made their first visit to the page and afterward\n",
    "\n",
    "  - only take into account the users that have observations before and after\n",
    "  \n",
    "  - we still are not using the lab ’project1’"
   ]
  },
  {
   "cell_type": "code",
   "execution_count": 6,
   "id": "ed3f83af",
   "metadata": {},
   "outputs": [
    {
     "data": {
      "text/html": [
       "<div>\n",
       "<style scoped>\n",
       "    .dataframe tbody tr th:only-of-type {\n",
       "        vertical-align: middle;\n",
       "    }\n",
       "\n",
       "    .dataframe tbody tr th {\n",
       "        vertical-align: top;\n",
       "    }\n",
       "\n",
       "    .dataframe thead th {\n",
       "        text-align: right;\n",
       "    }\n",
       "</style>\n",
       "<table border=\"1\" class=\"dataframe\">\n",
       "  <thead>\n",
       "    <tr style=\"text-align: right;\">\n",
       "      <th></th>\n",
       "      <th>time</th>\n",
       "      <th>avg_diff</th>\n",
       "    </tr>\n",
       "  </thead>\n",
       "  <tbody>\n",
       "    <tr>\n",
       "      <th>0</th>\n",
       "      <td>before</td>\n",
       "      <td>61.156632</td>\n",
       "    </tr>\n",
       "    <tr>\n",
       "      <th>1</th>\n",
       "      <td>after</td>\n",
       "      <td>105.229241</td>\n",
       "    </tr>\n",
       "  </tbody>\n",
       "</table>\n",
       "</div>"
      ],
      "text/plain": [
       "     time    avg_diff\n",
       "0  before   61.156632\n",
       "1   after  105.229241"
      ]
     },
     "execution_count": 6,
     "metadata": {},
     "output_type": "execute_result"
    }
   ],
   "source": [
    "query = \"\"\"\n",
    "    WITH user_times AS (\n",
    "        SELECT\n",
    "            uid,\n",
    "            CASE \n",
    "                WHEN strftime('%s', first_commit_ts) < strftime('%s', first_view_ts) THEN 'before'\n",
    "                ELSE 'after'\n",
    "            END AS time,\n",
    "            (d.deadlines - strftime('%s', t.first_commit_ts)) / 3600.0 AS diff\n",
    "        FROM test t\n",
    "        JOIN deadlines d ON t.labname = d.labs\n",
    "        WHERE t.labname <> 'project1'\n",
    "    ),\n",
    "    filtered_users AS (\n",
    "        SELECT uid\n",
    "        FROM user_times\n",
    "        GROUP BY uid\n",
    "        HAVING COUNT(DISTINCT time) = 2\n",
    "    )\n",
    "    SELECT time, AVG(diff) AS avg_diff\n",
    "    FROM user_times\n",
    "    WHERE uid IN (SELECT uid FROM filtered_users)\n",
    "    GROUP BY time\n",
    "    ORDER BY time DESC\n",
    "\"\"\"\n",
    "\n",
    "test_results = pd.read_sql(query, con)\n",
    "test_results"
   ]
  },
  {
   "cell_type": "code",
   "execution_count": 5,
   "id": "bab6a3fe",
   "metadata": {},
   "outputs": [
    {
     "data": {
      "text/html": [
       "<div>\n",
       "<style scoped>\n",
       "    .dataframe tbody tr th:only-of-type {\n",
       "        vertical-align: middle;\n",
       "    }\n",
       "\n",
       "    .dataframe tbody tr th {\n",
       "        vertical-align: top;\n",
       "    }\n",
       "\n",
       "    .dataframe thead th {\n",
       "        text-align: right;\n",
       "    }\n",
       "</style>\n",
       "<table border=\"1\" class=\"dataframe\">\n",
       "  <thead>\n",
       "    <tr style=\"text-align: right;\">\n",
       "      <th></th>\n",
       "      <th>time</th>\n",
       "      <th>avg_diff</th>\n",
       "    </tr>\n",
       "  </thead>\n",
       "  <tbody>\n",
       "    <tr>\n",
       "      <th>0</th>\n",
       "      <td>before</td>\n",
       "      <td>99.901448</td>\n",
       "    </tr>\n",
       "    <tr>\n",
       "      <th>1</th>\n",
       "      <td>after</td>\n",
       "      <td>118.144571</td>\n",
       "    </tr>\n",
       "  </tbody>\n",
       "</table>\n",
       "</div>"
      ],
      "text/plain": [
       "     time    avg_diff\n",
       "0  before   99.901448\n",
       "1   after  118.144571"
      ]
     },
     "execution_count": 5,
     "metadata": {},
     "output_type": "execute_result"
    }
   ],
   "source": [
    "query = \"\"\"\n",
    "    WITH user_times AS (\n",
    "        SELECT\n",
    "            uid,\n",
    "            CASE \n",
    "                WHEN strftime('%s', first_commit_ts) < strftime('%s', first_view_ts) THEN 'before'\n",
    "                ELSE 'after'\n",
    "            END AS time,\n",
    "            (d.deadlines - strftime('%s', c.first_commit_ts)) / 3600.0 AS diff\n",
    "        FROM control c\n",
    "        JOIN deadlines d ON c.labname = d.labs\n",
    "        WHERE c.labname <> 'project1'\n",
    "    ),\n",
    "    filtered_users AS (\n",
    "        SELECT uid\n",
    "        FROM user_times\n",
    "        GROUP BY uid\n",
    "        HAVING COUNT(DISTINCT time) = 2\n",
    "    )\n",
    "    SELECT time, AVG(diff) AS avg_diff\n",
    "    FROM user_times\n",
    "    WHERE uid IN (SELECT uid FROM filtered_users)\n",
    "    GROUP BY time\n",
    "    ORDER BY time DESC\n",
    "\"\"\"\n",
    "\n",
    "control_results = pd.read_sql(query, con)\n",
    "control_results"
   ]
  },
  {
   "cell_type": "markdown",
   "id": "f9359573",
   "metadata": {},
   "source": [
    "## Close the connection"
   ]
  },
  {
   "cell_type": "code",
   "execution_count": 7,
   "id": "c1c7b976",
   "metadata": {},
   "outputs": [],
   "source": [
    "con.close()"
   ]
  },
  {
   "cell_type": "markdown",
   "id": "3fa0bdfa",
   "metadata": {},
   "source": [
    "## Have the answer: did the hypothesis turn out to be true and the page does affect the students’ behavior?\n",
    "\n",
    "В обеих группах виден прирост времени работы, но в тестовой группе наблюдается прирост почти в `два` раза, тогда как в контрольной группе всего около `20%`. Тоесть введение Newsfeed оказало положительное влияние."
   ]
  }
 ],
 "metadata": {
  "kernelspec": {
   "display_name": ".venv",
   "language": "python",
   "name": "python3"
  },
  "language_info": {
   "codemirror_mode": {
    "name": "ipython",
    "version": 3
   },
   "file_extension": ".py",
   "mimetype": "text/x-python",
   "name": "python",
   "nbconvert_exporter": "python",
   "pygments_lexer": "ipython3",
   "version": "3.13.1"
  }
 },
 "nbformat": 4,
 "nbformat_minor": 5
}
