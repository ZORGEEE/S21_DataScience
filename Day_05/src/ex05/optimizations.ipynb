{
 "cells": [
  {
   "cell_type": "code",
   "execution_count": 37,
   "id": "6dc74a66",
   "metadata": {},
   "outputs": [],
   "source": [
    "import pandas as pd\n",
    "import gc"
   ]
  },
  {
   "cell_type": "markdown",
   "id": "7038ffb6",
   "metadata": {},
   "source": [
    "## read the fines.csv that you saved in the previous exercise"
   ]
  },
  {
   "cell_type": "code",
   "execution_count": 38,
   "id": "587d7fe9",
   "metadata": {},
   "outputs": [
    {
     "data": {
      "text/html": [
       "<div>\n",
       "<style scoped>\n",
       "    .dataframe tbody tr th:only-of-type {\n",
       "        vertical-align: middle;\n",
       "    }\n",
       "\n",
       "    .dataframe tbody tr th {\n",
       "        vertical-align: top;\n",
       "    }\n",
       "\n",
       "    .dataframe thead th {\n",
       "        text-align: right;\n",
       "    }\n",
       "</style>\n",
       "<table border=\"1\" class=\"dataframe\">\n",
       "  <thead>\n",
       "    <tr style=\"text-align: right;\">\n",
       "      <th></th>\n",
       "      <th>CarNumber</th>\n",
       "      <th>Refund</th>\n",
       "      <th>Fines</th>\n",
       "      <th>Make</th>\n",
       "      <th>Model</th>\n",
       "      <th>Year</th>\n",
       "    </tr>\n",
       "  </thead>\n",
       "  <tbody>\n",
       "    <tr>\n",
       "      <th>925</th>\n",
       "      <td>R078TX178RUS</td>\n",
       "      <td>1</td>\n",
       "      <td>2345.0</td>\n",
       "      <td>McLaren</td>\n",
       "      <td>P1</td>\n",
       "      <td>1999</td>\n",
       "    </tr>\n",
       "    <tr>\n",
       "      <th>926</th>\n",
       "      <td>C718MC178RUS</td>\n",
       "      <td>2</td>\n",
       "      <td>5678.0</td>\n",
       "      <td>BMW</td>\n",
       "      <td>M760i</td>\n",
       "      <td>2021</td>\n",
       "    </tr>\n",
       "    <tr>\n",
       "      <th>927</th>\n",
       "      <td>K361KA178RUS</td>\n",
       "      <td>3</td>\n",
       "      <td>8901.0</td>\n",
       "      <td>Lotus</td>\n",
       "      <td>Esprit</td>\n",
       "      <td>1987</td>\n",
       "    </tr>\n",
       "    <tr>\n",
       "      <th>928</th>\n",
       "      <td>O432AB178RUS</td>\n",
       "      <td>4</td>\n",
       "      <td>1234.0</td>\n",
       "      <td>Porsche</td>\n",
       "      <td>911 Targa</td>\n",
       "      <td>2024</td>\n",
       "    </tr>\n",
       "    <tr>\n",
       "      <th>929</th>\n",
       "      <td>X023HA178RUS</td>\n",
       "      <td>5</td>\n",
       "      <td>2161.0</td>\n",
       "      <td>Volvo</td>\n",
       "      <td>S90</td>\n",
       "      <td>2017</td>\n",
       "    </tr>\n",
       "  </tbody>\n",
       "</table>\n",
       "</div>"
      ],
      "text/plain": [
       "        CarNumber  Refund   Fines     Make      Model  Year\n",
       "925  R078TX178RUS       1  2345.0  McLaren         P1  1999\n",
       "926  C718MC178RUS       2  5678.0      BMW      M760i  2021\n",
       "927  K361KA178RUS       3  8901.0    Lotus     Esprit  1987\n",
       "928  O432AB178RUS       4  1234.0  Porsche  911 Targa  2024\n",
       "929  X023HA178RUS       5  2161.0    Volvo        S90  2017"
      ]
     },
     "execution_count": 38,
     "metadata": {},
     "output_type": "execute_result"
    }
   ],
   "source": [
    "df = pd.read_csv(\"../data/fines.csv\")\n",
    "df.tail()"
   ]
  },
  {
   "cell_type": "markdown",
   "id": "a5d13ec0",
   "metadata": {},
   "source": [
    "## iterations: in all the following subtasks, you need to calculate fines/refund*year for each row and create a new column with the calculated data and measure the time using the magic command %%timeit in the cell\n",
    "- loop: write a function that iterates through the dataframe using for i in range(0, len(df)), iloc and append() to a list, assign the result of the function to a new column in the dataframe"
   ]
  },
  {
   "cell_type": "code",
   "execution_count": 39,
   "id": "796a2ed9",
   "metadata": {},
   "outputs": [],
   "source": [
    "def iterations_loop(df):\n",
    "    res = []\n",
    "    for i in range(len(df)):\n",
    "        res.append(df.iloc[i]['Fines'] / df.iloc[i]['Refund'] * df.iloc[i]['Year'])\n",
    "    df['Calculations'] = res"
   ]
  },
  {
   "cell_type": "code",
   "execution_count": 40,
   "id": "d434ec69",
   "metadata": {},
   "outputs": [
    {
     "name": "stdout",
     "output_type": "stream",
     "text": [
      "35.1 ms ± 212 μs per loop (mean ± std. dev. of 7 runs, 10 loops each)\n"
     ]
    }
   ],
   "source": [
    "%%timeit\n",
    "\n",
    "iterations(df)"
   ]
  },
  {
   "cell_type": "markdown",
   "id": "8327e70f",
   "metadata": {},
   "source": [
    "- do it using iterrows()"
   ]
  },
  {
   "cell_type": "code",
   "execution_count": 41,
   "id": "23ce6975",
   "metadata": {},
   "outputs": [],
   "source": [
    "def iterations_iterrows(df):\n",
    "    res = []\n",
    "    for row in df.iterrows():\n",
    "        res.append(df.iloc[1]['Fines'] / df.iloc[1]['Refund'] * df.iloc[1]['Year'])\n",
    "    df['Calculations'] = res"
   ]
  },
  {
   "cell_type": "code",
   "execution_count": 42,
   "id": "9b322f8e",
   "metadata": {},
   "outputs": [
    {
     "name": "stdout",
     "output_type": "stream",
     "text": [
      "45.7 ms ± 103 μs per loop (mean ± std. dev. of 7 runs, 10 loops each)\n"
     ]
    }
   ],
   "source": [
    "%%timeit\n",
    "\n",
    "iterations_iterrows(df)"
   ]
  },
  {
   "cell_type": "markdown",
   "id": "a54f3526",
   "metadata": {},
   "source": [
    "- do it using apply() and lambda function"
   ]
  },
  {
   "cell_type": "code",
   "execution_count": 43,
   "id": "93ada391",
   "metadata": {},
   "outputs": [],
   "source": [
    "def iterations_lambda(df):\n",
    "    df['Calculations'] = df.apply(lambda x: x['Fines'] / x['Refund'] * x['Year'], axis='columns')"
   ]
  },
  {
   "cell_type": "code",
   "execution_count": 44,
   "id": "3b71ab50",
   "metadata": {},
   "outputs": [
    {
     "name": "stdout",
     "output_type": "stream",
     "text": [
      "3.5 ms ± 14.7 μs per loop (mean ± std. dev. of 7 runs, 100 loops each)\n"
     ]
    }
   ],
   "source": [
    "%%timeit\n",
    "\n",
    "iterations_lambda(df)"
   ]
  },
  {
   "cell_type": "markdown",
   "id": "0f5cee30",
   "metadata": {},
   "source": [
    "- do it using Series objects from the dataframe"
   ]
  },
  {
   "cell_type": "code",
   "execution_count": 45,
   "id": "79cec19b",
   "metadata": {},
   "outputs": [],
   "source": [
    "def iterations_series(df):\n",
    "    df['Calculations'] = df['Fines'] / df ['Refund'] * df['Year']"
   ]
  },
  {
   "cell_type": "code",
   "execution_count": 46,
   "id": "afc546e7",
   "metadata": {},
   "outputs": [
    {
     "name": "stdout",
     "output_type": "stream",
     "text": [
      "60.7 μs ± 2.79 μs per loop (mean ± std. dev. of 7 runs, 10,000 loops each)\n"
     ]
    }
   ],
   "source": [
    "%%timeit\n",
    "\n",
    "iterations_series(df)"
   ]
  },
  {
   "cell_type": "markdown",
   "id": "bd839453",
   "metadata": {},
   "source": [
    "- do it as in the previous subtask but with the method .values"
   ]
  },
  {
   "cell_type": "code",
   "execution_count": 47,
   "id": "669f5565",
   "metadata": {},
   "outputs": [],
   "source": [
    "def iterations_values(df):\n",
    "    df['Calculations'] = df['Fines'].values / df ['Refund'].values * df['Year'].values"
   ]
  },
  {
   "cell_type": "code",
   "execution_count": 48,
   "id": "f2e71c52",
   "metadata": {},
   "outputs": [
    {
     "name": "stdout",
     "output_type": "stream",
     "text": [
      "32.8 μs ± 1.97 μs per loop (mean ± std. dev. of 7 runs, 10,000 loops each)\n"
     ]
    }
   ],
   "source": [
    "%%timeit\n",
    "\n",
    "iterations_values(df)"
   ]
  },
  {
   "cell_type": "markdown",
   "id": "289d1951",
   "metadata": {},
   "source": [
    "## indexing: measure the time using the magic command %%timeit in the cell\n",
    "- get a row for a specific CarNumber, for example, ’O136HO197RUS’\n",
    "\n",
    "- set the index in your dataframe with CarNumber\n",
    "\n",
    "- again, get a row for the same CarNumber"
   ]
  },
  {
   "cell_type": "code",
   "execution_count": 49,
   "id": "b74a2a51",
   "metadata": {},
   "outputs": [
    {
     "name": "stdout",
     "output_type": "stream",
     "text": [
      "97.4 μs ± 1.88 μs per loop (mean ± std. dev. of 7 runs, 10,000 loops each)\n"
     ]
    }
   ],
   "source": [
    "%%timeit\n",
    "\n",
    "df[df['CarNumber'] == 'O136HO197RUS']"
   ]
  },
  {
   "cell_type": "code",
   "execution_count": 50,
   "id": "f4d957f3",
   "metadata": {},
   "outputs": [
    {
     "data": {
      "text/html": [
       "<div>\n",
       "<style scoped>\n",
       "    .dataframe tbody tr th:only-of-type {\n",
       "        vertical-align: middle;\n",
       "    }\n",
       "\n",
       "    .dataframe tbody tr th {\n",
       "        vertical-align: top;\n",
       "    }\n",
       "\n",
       "    .dataframe thead th {\n",
       "        text-align: right;\n",
       "    }\n",
       "</style>\n",
       "<table border=\"1\" class=\"dataframe\">\n",
       "  <thead>\n",
       "    <tr style=\"text-align: right;\">\n",
       "      <th></th>\n",
       "      <th>Refund</th>\n",
       "      <th>Fines</th>\n",
       "      <th>Make</th>\n",
       "      <th>Model</th>\n",
       "      <th>Year</th>\n",
       "      <th>Calculations</th>\n",
       "    </tr>\n",
       "    <tr>\n",
       "      <th>CarNumber</th>\n",
       "      <th></th>\n",
       "      <th></th>\n",
       "      <th></th>\n",
       "      <th></th>\n",
       "      <th></th>\n",
       "      <th></th>\n",
       "    </tr>\n",
       "  </thead>\n",
       "  <tbody>\n",
       "    <tr>\n",
       "      <th>Y163O8161RUS</th>\n",
       "      <td>2</td>\n",
       "      <td>3200.0</td>\n",
       "      <td>Ford</td>\n",
       "      <td>Focus</td>\n",
       "      <td>1989</td>\n",
       "      <td>3182400.0</td>\n",
       "    </tr>\n",
       "    <tr>\n",
       "      <th>E432XX77RUS</th>\n",
       "      <td>1</td>\n",
       "      <td>6500.0</td>\n",
       "      <td>Toyota</td>\n",
       "      <td>Camry</td>\n",
       "      <td>1995</td>\n",
       "      <td>12967500.0</td>\n",
       "    </tr>\n",
       "    <tr>\n",
       "      <th>7184TT36RUS</th>\n",
       "      <td>1</td>\n",
       "      <td>2100.0</td>\n",
       "      <td>Ford</td>\n",
       "      <td>Focus</td>\n",
       "      <td>1984</td>\n",
       "      <td>4166400.0</td>\n",
       "    </tr>\n",
       "    <tr>\n",
       "      <th>X582HE161RUS</th>\n",
       "      <td>2</td>\n",
       "      <td>2000.0</td>\n",
       "      <td>Ford</td>\n",
       "      <td>Focus</td>\n",
       "      <td>2015</td>\n",
       "      <td>2015000.0</td>\n",
       "    </tr>\n",
       "    <tr>\n",
       "      <th>92918M178RUS</th>\n",
       "      <td>1</td>\n",
       "      <td>5700.0</td>\n",
       "      <td>Ford</td>\n",
       "      <td>Focus</td>\n",
       "      <td>2014</td>\n",
       "      <td>11479800.0</td>\n",
       "    </tr>\n",
       "    <tr>\n",
       "      <th>...</th>\n",
       "      <td>...</td>\n",
       "      <td>...</td>\n",
       "      <td>...</td>\n",
       "      <td>...</td>\n",
       "      <td>...</td>\n",
       "      <td>...</td>\n",
       "    </tr>\n",
       "    <tr>\n",
       "      <th>R078TX178RUS</th>\n",
       "      <td>1</td>\n",
       "      <td>2345.0</td>\n",
       "      <td>McLaren</td>\n",
       "      <td>P1</td>\n",
       "      <td>1999</td>\n",
       "      <td>4687655.0</td>\n",
       "    </tr>\n",
       "    <tr>\n",
       "      <th>C718MC178RUS</th>\n",
       "      <td>2</td>\n",
       "      <td>5678.0</td>\n",
       "      <td>BMW</td>\n",
       "      <td>M760i</td>\n",
       "      <td>2021</td>\n",
       "      <td>5737619.0</td>\n",
       "    </tr>\n",
       "    <tr>\n",
       "      <th>K361KA178RUS</th>\n",
       "      <td>3</td>\n",
       "      <td>8901.0</td>\n",
       "      <td>Lotus</td>\n",
       "      <td>Esprit</td>\n",
       "      <td>1987</td>\n",
       "      <td>5895429.0</td>\n",
       "    </tr>\n",
       "    <tr>\n",
       "      <th>O432AB178RUS</th>\n",
       "      <td>4</td>\n",
       "      <td>1234.0</td>\n",
       "      <td>Porsche</td>\n",
       "      <td>911 Targa</td>\n",
       "      <td>2024</td>\n",
       "      <td>624404.0</td>\n",
       "    </tr>\n",
       "    <tr>\n",
       "      <th>X023HA178RUS</th>\n",
       "      <td>5</td>\n",
       "      <td>2161.0</td>\n",
       "      <td>Volvo</td>\n",
       "      <td>S90</td>\n",
       "      <td>2017</td>\n",
       "      <td>871747.4</td>\n",
       "    </tr>\n",
       "  </tbody>\n",
       "</table>\n",
       "<p>930 rows × 6 columns</p>\n",
       "</div>"
      ],
      "text/plain": [
       "              Refund   Fines     Make      Model  Year  Calculations\n",
       "CarNumber                                                           \n",
       "Y163O8161RUS       2  3200.0     Ford      Focus  1989     3182400.0\n",
       "E432XX77RUS        1  6500.0   Toyota      Camry  1995    12967500.0\n",
       "7184TT36RUS        1  2100.0     Ford      Focus  1984     4166400.0\n",
       "X582HE161RUS       2  2000.0     Ford      Focus  2015     2015000.0\n",
       "92918M178RUS       1  5700.0     Ford      Focus  2014    11479800.0\n",
       "...              ...     ...      ...        ...   ...           ...\n",
       "R078TX178RUS       1  2345.0  McLaren         P1  1999     4687655.0\n",
       "C718MC178RUS       2  5678.0      BMW      M760i  2021     5737619.0\n",
       "K361KA178RUS       3  8901.0    Lotus     Esprit  1987     5895429.0\n",
       "O432AB178RUS       4  1234.0  Porsche  911 Targa  2024      624404.0\n",
       "X023HA178RUS       5  2161.0    Volvo        S90  2017      871747.4\n",
       "\n",
       "[930 rows x 6 columns]"
      ]
     },
     "execution_count": 50,
     "metadata": {},
     "output_type": "execute_result"
    }
   ],
   "source": [
    "df.set_index('CarNumber', inplace=True)\n",
    "df"
   ]
  },
  {
   "cell_type": "code",
   "execution_count": 51,
   "id": "511eafdf",
   "metadata": {},
   "outputs": [
    {
     "name": "stdout",
     "output_type": "stream",
     "text": [
      "77.8 μs ± 3.31 μs per loop (mean ± std. dev. of 7 runs, 10,000 loops each)\n"
     ]
    }
   ],
   "source": [
    "%%timeit\n",
    "\n",
    "df[df.index == 'O136HO197RUS']"
   ]
  },
  {
   "cell_type": "code",
   "execution_count": 52,
   "id": "8c551be9",
   "metadata": {},
   "outputs": [
    {
     "name": "stdout",
     "output_type": "stream",
     "text": [
      "24.4 μs ± 594 ns per loop (mean ± std. dev. of 7 runs, 10,000 loops each)\n"
     ]
    }
   ],
   "source": [
    "%%timeit\n",
    "\n",
    "df.loc['O136HO197RUS']"
   ]
  },
  {
   "cell_type": "markdown",
   "id": "6fbfb2f6",
   "metadata": {},
   "source": [
    "## downcasting:\n",
    "- run df.info(memory_usage=’deep’), pay attention to the Dtype and the memory usage\n",
    "\n",
    "- make a copy() of your initial dataframe into another dataframe optimized\n",
    "\n",
    "- downcast from float64 to float32 for all the columns\n",
    "\n",
    "- downcast from int64 to the smallest numerical dtype possible\n",
    "\n",
    "- run info(memory_usage='deep') for your new dataframe, pay attention to the Dtype and the memory usage"
   ]
  },
  {
   "cell_type": "code",
   "execution_count": 53,
   "id": "f87f18e0",
   "metadata": {},
   "outputs": [
    {
     "name": "stdout",
     "output_type": "stream",
     "text": [
      "<class 'pandas.core.frame.DataFrame'>\n",
      "Index: 930 entries, Y163O8161RUS to X023HA178RUS\n",
      "Data columns (total 6 columns):\n",
      " #   Column        Non-Null Count  Dtype  \n",
      "---  ------        --------------  -----  \n",
      " 0   Refund        930 non-null    int64  \n",
      " 1   Fines         930 non-null    float64\n",
      " 2   Make          930 non-null    object \n",
      " 3   Model         919 non-null    object \n",
      " 4   Year          930 non-null    int64  \n",
      " 5   Calculations  930 non-null    float64\n",
      "dtypes: float64(2), int64(2), object(2)\n",
      "memory usage: 214.3 KB\n"
     ]
    }
   ],
   "source": [
    "df.info(memory_usage='deep')"
   ]
  },
  {
   "cell_type": "code",
   "execution_count": 54,
   "id": "cdd66eb8",
   "metadata": {},
   "outputs": [],
   "source": [
    "copy = df.copy()"
   ]
  },
  {
   "cell_type": "code",
   "execution_count": 55,
   "id": "5c59821b",
   "metadata": {},
   "outputs": [],
   "source": [
    "fcols = copy.select_dtypes(include='float64').columns\n",
    "icols = copy.select_dtypes(include='int64').columns\n",
    "\n",
    "copy[fcols] = copy[fcols].apply(lambda x: x.astype('float32'))\n",
    "copy[icols] = copy[icols].apply(pd.to_numeric, downcast='integer')"
   ]
  },
  {
   "cell_type": "code",
   "execution_count": 57,
   "id": "fb9e7b7b",
   "metadata": {},
   "outputs": [
    {
     "name": "stdout",
     "output_type": "stream",
     "text": [
      "<class 'pandas.core.frame.DataFrame'>\n",
      "Index: 930 entries, Y163O8161RUS to X023HA178RUS\n",
      "Data columns (total 6 columns):\n",
      " #   Column        Non-Null Count  Dtype  \n",
      "---  ------        --------------  -----  \n",
      " 0   Refund        930 non-null    int8   \n",
      " 1   Fines         930 non-null    float32\n",
      " 2   Make          930 non-null    object \n",
      " 3   Model         919 non-null    object \n",
      " 4   Year          930 non-null    int16  \n",
      " 5   Calculations  930 non-null    float32\n",
      "dtypes: float32(2), int16(1), int8(1), object(2)\n",
      "memory usage: 195.2 KB\n"
     ]
    }
   ],
   "source": [
    "copy.info(memory_usage='deep')"
   ]
  },
  {
   "cell_type": "markdown",
   "id": "83f0ec4a",
   "metadata": {},
   "source": [
    "## categories:\n",
    "- change the object type columns to the type category\n",
    "\n",
    "- This time, check the memory usage, it probably has a decrease of 2–3 times compared to the initial dataframe"
   ]
  },
  {
   "cell_type": "code",
   "execution_count": 58,
   "id": "bf53733d",
   "metadata": {},
   "outputs": [],
   "source": [
    "obj_cols = copy.select_dtypes(include=['object']).columns\n",
    "\n",
    "copy[obj_cols] = copy[obj_cols].astype('category')"
   ]
  },
  {
   "cell_type": "code",
   "execution_count": 60,
   "id": "b4fb3a53",
   "metadata": {},
   "outputs": [
    {
     "name": "stdout",
     "output_type": "stream",
     "text": [
      "<class 'pandas.core.frame.DataFrame'>\n",
      "Index: 930 entries, Y163O8161RUS to X023HA178RUS\n",
      "Data columns (total 6 columns):\n",
      " #   Column        Non-Null Count  Dtype   \n",
      "---  ------        --------------  -----   \n",
      " 0   Refund        930 non-null    int8    \n",
      " 1   Fines         930 non-null    float32 \n",
      " 2   Make          930 non-null    category\n",
      " 3   Model         919 non-null    category\n",
      " 4   Year          930 non-null    int16   \n",
      " 5   Calculations  930 non-null    float32 \n",
      "dtypes: category(2), float32(2), int16(1), int8(1)\n",
      "memory usage: 101.5 KB\n"
     ]
    }
   ],
   "source": [
    "copy.info(memory_usage='deep')"
   ]
  },
  {
   "cell_type": "markdown",
   "id": "c3167297",
   "metadata": {},
   "source": [
    "## memory clean\n",
    "- using %reset_selective and the library gc clean the memory of your initial dataframe only"
   ]
  },
  {
   "cell_type": "code",
   "execution_count": 61,
   "id": "ac1d11ca",
   "metadata": {},
   "outputs": [
    {
     "data": {
      "text/plain": [
       "284"
      ]
     },
     "execution_count": 61,
     "metadata": {},
     "output_type": "execute_result"
    }
   ],
   "source": [
    "%reset_selective df\n",
    "\n",
    "gc.collect()"
   ]
  }
 ],
 "metadata": {
  "kernelspec": {
   "display_name": "Python 3",
   "language": "python",
   "name": "python3"
  },
  "language_info": {
   "codemirror_mode": {
    "name": "ipython",
    "version": 3
   },
   "file_extension": ".py",
   "mimetype": "text/x-python",
   "name": "python",
   "nbconvert_exporter": "python",
   "pygments_lexer": "ipython3",
   "version": "3.13.1"
  }
 },
 "nbformat": 4,
 "nbformat_minor": 5
}
