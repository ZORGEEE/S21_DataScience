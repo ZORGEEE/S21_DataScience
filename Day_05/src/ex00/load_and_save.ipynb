{
 "cells": [
  {
   "cell_type": "code",
   "execution_count": 1,
   "id": "3a1f6ad4",
   "metadata": {},
   "outputs": [],
   "source": [
    "import pandas as pd"
   ]
  },
  {
   "cell_type": "markdown",
   "id": "5af34858",
   "metadata": {},
   "source": [
    "## read_csv"
   ]
  },
  {
   "cell_type": "code",
   "execution_count": 4,
   "id": "ad0ed0b7",
   "metadata": {},
   "outputs": [
    {
     "data": {
      "text/html": [
       "<div>\n",
       "<style scoped>\n",
       "    .dataframe tbody tr th:only-of-type {\n",
       "        vertical-align: middle;\n",
       "    }\n",
       "\n",
       "    .dataframe tbody tr th {\n",
       "        vertical-align: top;\n",
       "    }\n",
       "\n",
       "    .dataframe thead th {\n",
       "        text-align: right;\n",
       "    }\n",
       "</style>\n",
       "<table border=\"1\" class=\"dataframe\">\n",
       "  <thead>\n",
       "    <tr style=\"text-align: right;\">\n",
       "      <th></th>\n",
       "      <th>user</th>\n",
       "    </tr>\n",
       "    <tr>\n",
       "      <th>datetime</th>\n",
       "      <th></th>\n",
       "    </tr>\n",
       "  </thead>\n",
       "  <tbody>\n",
       "    <tr>\n",
       "      <th>2020-04-17 12:01:08.463179</th>\n",
       "      <td>artem</td>\n",
       "    </tr>\n",
       "    <tr>\n",
       "      <th>2020-04-17 12:01:23.743946</th>\n",
       "      <td>artem</td>\n",
       "    </tr>\n",
       "    <tr>\n",
       "      <th>2020-04-17 12:35:52.735016</th>\n",
       "      <td>artem</td>\n",
       "    </tr>\n",
       "    <tr>\n",
       "      <th>2020-04-17 12:36:21.401412</th>\n",
       "      <td>oksana</td>\n",
       "    </tr>\n",
       "    <tr>\n",
       "      <th>2020-04-17 12:36:22.023355</th>\n",
       "      <td>oksana</td>\n",
       "    </tr>\n",
       "    <tr>\n",
       "      <th>...</th>\n",
       "      <td>...</td>\n",
       "    </tr>\n",
       "    <tr>\n",
       "      <th>2020-05-21 16:36:40.915488</th>\n",
       "      <td>ekaterina</td>\n",
       "    </tr>\n",
       "    <tr>\n",
       "      <th>2020-05-21 17:49:36.429237</th>\n",
       "      <td>maxim</td>\n",
       "    </tr>\n",
       "    <tr>\n",
       "      <th>2020-05-21 18:45:20.441142</th>\n",
       "      <td>valentina</td>\n",
       "    </tr>\n",
       "    <tr>\n",
       "      <th>2020-05-21 23:03:06.457819</th>\n",
       "      <td>maxim</td>\n",
       "    </tr>\n",
       "    <tr>\n",
       "      <th>2020-05-21 23:23:49.995349</th>\n",
       "      <td>pavel</td>\n",
       "    </tr>\n",
       "  </tbody>\n",
       "</table>\n",
       "<p>1072 rows × 1 columns</p>\n",
       "</div>"
      ],
      "text/plain": [
       "                                 user\n",
       "datetime                             \n",
       "2020-04-17 12:01:08.463179      artem\n",
       "2020-04-17 12:01:23.743946      artem\n",
       "2020-04-17 12:35:52.735016      artem\n",
       "2020-04-17 12:36:21.401412     oksana\n",
       "2020-04-17 12:36:22.023355     oksana\n",
       "...                               ...\n",
       "2020-05-21 16:36:40.915488  ekaterina\n",
       "2020-05-21 17:49:36.429237      maxim\n",
       "2020-05-21 18:45:20.441142  valentina\n",
       "2020-05-21 23:03:06.457819      maxim\n",
       "2020-05-21 23:23:49.995349      pavel\n",
       "\n",
       "[1072 rows x 1 columns]"
      ]
     },
     "execution_count": 4,
     "metadata": {},
     "output_type": "execute_result"
    }
   ],
   "source": [
    "df = pd.read_csv(\"../data/feed_views.log\", sep='\\t', names=['datetime', 'user'], engine='python', index_col='datetime', skiprows=[2,3], skipfooter=2)\n",
    "df"
   ]
  },
  {
   "cell_type": "markdown",
   "id": "fdc9505b",
   "metadata": {},
   "source": [
    "## rename datetime to date_time"
   ]
  },
  {
   "cell_type": "code",
   "execution_count": 6,
   "id": "e12333db",
   "metadata": {},
   "outputs": [
    {
     "data": {
      "text/html": [
       "<div>\n",
       "<style scoped>\n",
       "    .dataframe tbody tr th:only-of-type {\n",
       "        vertical-align: middle;\n",
       "    }\n",
       "\n",
       "    .dataframe tbody tr th {\n",
       "        vertical-align: top;\n",
       "    }\n",
       "\n",
       "    .dataframe thead th {\n",
       "        text-align: right;\n",
       "    }\n",
       "</style>\n",
       "<table border=\"1\" class=\"dataframe\">\n",
       "  <thead>\n",
       "    <tr style=\"text-align: right;\">\n",
       "      <th></th>\n",
       "      <th>user</th>\n",
       "    </tr>\n",
       "    <tr>\n",
       "      <th>date_time</th>\n",
       "      <th></th>\n",
       "    </tr>\n",
       "  </thead>\n",
       "  <tbody>\n",
       "    <tr>\n",
       "      <th>2020-04-17 12:01:08.463179</th>\n",
       "      <td>artem</td>\n",
       "    </tr>\n",
       "    <tr>\n",
       "      <th>2020-04-17 12:01:23.743946</th>\n",
       "      <td>artem</td>\n",
       "    </tr>\n",
       "    <tr>\n",
       "      <th>2020-04-17 12:35:52.735016</th>\n",
       "      <td>artem</td>\n",
       "    </tr>\n",
       "    <tr>\n",
       "      <th>2020-04-17 12:36:21.401412</th>\n",
       "      <td>oksana</td>\n",
       "    </tr>\n",
       "    <tr>\n",
       "      <th>2020-04-17 12:36:22.023355</th>\n",
       "      <td>oksana</td>\n",
       "    </tr>\n",
       "    <tr>\n",
       "      <th>...</th>\n",
       "      <td>...</td>\n",
       "    </tr>\n",
       "    <tr>\n",
       "      <th>2020-05-21 16:36:40.915488</th>\n",
       "      <td>ekaterina</td>\n",
       "    </tr>\n",
       "    <tr>\n",
       "      <th>2020-05-21 17:49:36.429237</th>\n",
       "      <td>maxim</td>\n",
       "    </tr>\n",
       "    <tr>\n",
       "      <th>2020-05-21 18:45:20.441142</th>\n",
       "      <td>valentina</td>\n",
       "    </tr>\n",
       "    <tr>\n",
       "      <th>2020-05-21 23:03:06.457819</th>\n",
       "      <td>maxim</td>\n",
       "    </tr>\n",
       "    <tr>\n",
       "      <th>2020-05-21 23:23:49.995349</th>\n",
       "      <td>pavel</td>\n",
       "    </tr>\n",
       "  </tbody>\n",
       "</table>\n",
       "<p>1072 rows × 1 columns</p>\n",
       "</div>"
      ],
      "text/plain": [
       "                                 user\n",
       "date_time                            \n",
       "2020-04-17 12:01:08.463179      artem\n",
       "2020-04-17 12:01:23.743946      artem\n",
       "2020-04-17 12:35:52.735016      artem\n",
       "2020-04-17 12:36:21.401412     oksana\n",
       "2020-04-17 12:36:22.023355     oksana\n",
       "...                               ...\n",
       "2020-05-21 16:36:40.915488  ekaterina\n",
       "2020-05-21 17:49:36.429237      maxim\n",
       "2020-05-21 18:45:20.441142  valentina\n",
       "2020-05-21 23:03:06.457819      maxim\n",
       "2020-05-21 23:23:49.995349      pavel\n",
       "\n",
       "[1072 rows x 1 columns]"
      ]
     },
     "execution_count": 6,
     "metadata": {},
     "output_type": "execute_result"
    }
   ],
   "source": [
    "df.index.name = 'date_time'\n",
    "df"
   ]
  },
  {
   "cell_type": "markdown",
   "id": "85ddc975",
   "metadata": {},
   "source": [
    "## to_csv"
   ]
  },
  {
   "cell_type": "code",
   "execution_count": 7,
   "id": "9bc5e92d",
   "metadata": {},
   "outputs": [],
   "source": [
    "df.to_csv(\"../data/feed-views-semicolon.log\", sep=';')"
   ]
  },
  {
   "cell_type": "code",
   "execution_count": 8,
   "id": "79507e0b",
   "metadata": {},
   "outputs": [
    {
     "data": {
      "text/html": [
       "<div>\n",
       "<style scoped>\n",
       "    .dataframe tbody tr th:only-of-type {\n",
       "        vertical-align: middle;\n",
       "    }\n",
       "\n",
       "    .dataframe tbody tr th {\n",
       "        vertical-align: top;\n",
       "    }\n",
       "\n",
       "    .dataframe thead th {\n",
       "        text-align: right;\n",
       "    }\n",
       "</style>\n",
       "<table border=\"1\" class=\"dataframe\">\n",
       "  <thead>\n",
       "    <tr style=\"text-align: right;\">\n",
       "      <th></th>\n",
       "      <th>user</th>\n",
       "    </tr>\n",
       "    <tr>\n",
       "      <th>date_time</th>\n",
       "      <th></th>\n",
       "    </tr>\n",
       "  </thead>\n",
       "  <tbody>\n",
       "    <tr>\n",
       "      <th>2020-04-17 12:01:08.463179</th>\n",
       "      <td>artem</td>\n",
       "    </tr>\n",
       "    <tr>\n",
       "      <th>2020-04-17 12:01:23.743946</th>\n",
       "      <td>artem</td>\n",
       "    </tr>\n",
       "    <tr>\n",
       "      <th>2020-04-17 12:35:52.735016</th>\n",
       "      <td>artem</td>\n",
       "    </tr>\n",
       "    <tr>\n",
       "      <th>2020-04-17 12:36:21.401412</th>\n",
       "      <td>oksana</td>\n",
       "    </tr>\n",
       "    <tr>\n",
       "      <th>2020-04-17 12:36:22.023355</th>\n",
       "      <td>oksana</td>\n",
       "    </tr>\n",
       "  </tbody>\n",
       "</table>\n",
       "</div>"
      ],
      "text/plain": [
       "                              user\n",
       "date_time                         \n",
       "2020-04-17 12:01:08.463179   artem\n",
       "2020-04-17 12:01:23.743946   artem\n",
       "2020-04-17 12:35:52.735016   artem\n",
       "2020-04-17 12:36:21.401412  oksana\n",
       "2020-04-17 12:36:22.023355  oksana"
      ]
     },
     "execution_count": 8,
     "metadata": {},
     "output_type": "execute_result"
    }
   ],
   "source": [
    "df.head()"
   ]
  },
  {
   "cell_type": "code",
   "execution_count": 9,
   "id": "b7cd302c",
   "metadata": {},
   "outputs": [
    {
     "data": {
      "text/html": [
       "<div>\n",
       "<style scoped>\n",
       "    .dataframe tbody tr th:only-of-type {\n",
       "        vertical-align: middle;\n",
       "    }\n",
       "\n",
       "    .dataframe tbody tr th {\n",
       "        vertical-align: top;\n",
       "    }\n",
       "\n",
       "    .dataframe thead th {\n",
       "        text-align: right;\n",
       "    }\n",
       "</style>\n",
       "<table border=\"1\" class=\"dataframe\">\n",
       "  <thead>\n",
       "    <tr style=\"text-align: right;\">\n",
       "      <th></th>\n",
       "      <th>user</th>\n",
       "    </tr>\n",
       "    <tr>\n",
       "      <th>date_time</th>\n",
       "      <th></th>\n",
       "    </tr>\n",
       "  </thead>\n",
       "  <tbody>\n",
       "    <tr>\n",
       "      <th>2020-05-21 16:36:40.915488</th>\n",
       "      <td>ekaterina</td>\n",
       "    </tr>\n",
       "    <tr>\n",
       "      <th>2020-05-21 17:49:36.429237</th>\n",
       "      <td>maxim</td>\n",
       "    </tr>\n",
       "    <tr>\n",
       "      <th>2020-05-21 18:45:20.441142</th>\n",
       "      <td>valentina</td>\n",
       "    </tr>\n",
       "    <tr>\n",
       "      <th>2020-05-21 23:03:06.457819</th>\n",
       "      <td>maxim</td>\n",
       "    </tr>\n",
       "    <tr>\n",
       "      <th>2020-05-21 23:23:49.995349</th>\n",
       "      <td>pavel</td>\n",
       "    </tr>\n",
       "  </tbody>\n",
       "</table>\n",
       "</div>"
      ],
      "text/plain": [
       "                                 user\n",
       "date_time                            \n",
       "2020-05-21 16:36:40.915488  ekaterina\n",
       "2020-05-21 17:49:36.429237      maxim\n",
       "2020-05-21 18:45:20.441142  valentina\n",
       "2020-05-21 23:03:06.457819      maxim\n",
       "2020-05-21 23:23:49.995349      pavel"
      ]
     },
     "execution_count": 9,
     "metadata": {},
     "output_type": "execute_result"
    }
   ],
   "source": [
    "df.tail()"
   ]
  }
 ],
 "metadata": {
  "kernelspec": {
   "display_name": "Python 3",
   "language": "python",
   "name": "python3"
  },
  "language_info": {
   "codemirror_mode": {
    "name": "ipython",
    "version": 3
   },
   "file_extension": ".py",
   "mimetype": "text/x-python",
   "name": "python",
   "nbconvert_exporter": "python",
   "pygments_lexer": "ipython3",
   "version": "3.13.1"
  }
 },
 "nbformat": 4,
 "nbformat_minor": 5
}
