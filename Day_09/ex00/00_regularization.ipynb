{
 "cells": [
  {
   "cell_type": "markdown",
   "metadata": {},
   "source": [
    "# Day 09. Exercise 00\n",
    "# Regularization"
   ]
  },
  {
   "cell_type": "markdown",
   "metadata": {},
   "source": [
    "## 0. Imports"
   ]
  },
  {
   "cell_type": "code",
   "execution_count": 3,
   "metadata": {},
   "outputs": [],
   "source": [
    "import pandas as pd\n",
    "import numpy as np\n",
    "import joblib\n",
    "from sklearn.model_selection import train_test_split, StratifiedKFold\n",
    "from sklearn.linear_model import LogisticRegression\n",
    "from sklearn.metrics import accuracy_score\n",
    "from sklearn.svm import SVC\n",
    "from sklearn.tree import DecisionTreeClassifier\n",
    "from sklearn.ensemble import RandomForestClassifier"
   ]
  },
  {
   "cell_type": "markdown",
   "metadata": {},
   "source": [
    "## 1. Preprocessing"
   ]
  },
  {
   "cell_type": "markdown",
   "metadata": {},
   "source": [
    "1. Read the file `dayofweek.csv` that you used in the previous day to a dataframe.\n",
    "2. Using `train_test_split` with parameters `test_size=0.2`, `random_state=21` get `X_train`, `y_train`, `X_test`, `y_test`. Use the additional parameter `stratify`."
   ]
  },
  {
   "cell_type": "code",
   "execution_count": 4,
   "metadata": {},
   "outputs": [],
   "source": [
    "df = pd.read_csv(\"../data/dayofweek.csv\")\n",
    "X = df.drop(columns='dayofweek')\n",
    "y = df['dayofweek']"
   ]
  },
  {
   "cell_type": "code",
   "execution_count": 5,
   "metadata": {},
   "outputs": [],
   "source": [
    "X_train, X_test, y_train, y_test = train_test_split(\n",
    "    X, y,\n",
    "    test_size=0.2,\n",
    "    random_state=21,\n",
    "    stratify=y\n",
    ")"
   ]
  },
  {
   "cell_type": "markdown",
   "metadata": {},
   "source": [
    "## 2. Logreg regularization"
   ]
  },
  {
   "cell_type": "markdown",
   "metadata": {},
   "source": [
    "### a. Default regularization"
   ]
  },
  {
   "cell_type": "markdown",
   "metadata": {},
   "source": [
    "1. Train a baseline model with the only parameters `random_state=21`, `fit_intercept=False`.\n",
    "2. Use stratified K-fold cross-validation with `10` splits to evaluate the accuracy of the model\n",
    "\n",
    "\n",
    "The result of the code where you trained and evaluated the baseline model should be exactly like this (use `%%time` to get the info about how long it took to run the cell):\n",
    "\n",
    "```\n",
    "train -  0.62902   |   valid -  0.59259\n",
    "train -  0.64633   |   valid -  0.62963\n",
    "train -  0.63479   |   valid -  0.56296\n",
    "train -  0.65622   |   valid -  0.61481\n",
    "train -  0.63397   |   valid -  0.57778\n",
    "train -  0.64056   |   valid -  0.59259\n",
    "train -  0.64138   |   valid -  0.65926\n",
    "train -  0.65952   |   valid -  0.56296\n",
    "train -  0.64333   |   valid -  0.59701\n",
    "train -  0.63674   |   valid -  0.62687\n",
    "Average accuracy on crossval is 0.60165\n",
    "Std is 0.02943\n",
    "```"
   ]
  },
  {
   "cell_type": "code",
   "execution_count": 6,
   "metadata": {},
   "outputs": [
    {
     "name": "stdout",
     "output_type": "stream",
     "text": [
      "CPU times: user 9 μs, sys: 5 μs, total: 14 μs\n",
      "Wall time: 13.8 μs\n"
     ]
    }
   ],
   "source": [
    "%%time\n",
    "logreg_model = LogisticRegression(random_state=21, fit_intercept=False)"
   ]
  },
  {
   "cell_type": "code",
   "execution_count": 7,
   "metadata": {},
   "outputs": [
    {
     "name": "stdout",
     "output_type": "stream",
     "text": [
      "train -  0.63546   |   valid -  0.65089\n",
      "train -  0.65326   |   valid -  0.60947\n",
      "train -  0.63942   |   valid -  0.63314\n",
      "train -  0.63283   |   valid -  0.57988\n",
      "train -  0.65590   |   valid -  0.57988\n",
      "train -  0.64535   |   valid -  0.62130\n",
      "train -  0.63834   |   valid -  0.60714\n",
      "train -  0.63702   |   valid -  0.59524\n",
      "train -  0.64295   |   valid -  0.68452\n",
      "train -  0.63900   |   valid -  0.56548\n",
      "Average accuracy on crossval is 0.61269\n",
      "Std is 0.03441\n",
      "CPU times: user 92.7 ms, sys: 3.81 ms, total: 96.5 ms\n",
      "Wall time: 98.6 ms\n"
     ]
    }
   ],
   "source": [
    "%%time\n",
    "skf = StratifiedKFold(n_splits=10, shuffle=True, random_state=21)\n",
    "\n",
    "accuracies = []\n",
    "for train_idx, valid_idx in skf.split(X, y):\n",
    "    X_train_fold, X_valid_fold = X.iloc[train_idx], X.iloc[valid_idx]\n",
    "    y_train_fold, y_valid_fold = y.iloc[train_idx], y.iloc[valid_idx]\n",
    "    \n",
    "    logreg_model.fit(X_train_fold, y_train_fold)\n",
    "\n",
    "    y_train_pred = logreg_model.predict(X_train_fold)\n",
    "    y_valid_pred = logreg_model.predict(X_valid_fold)\n",
    "\n",
    "    acc_train = accuracy_score(y_train_fold, y_train_pred)\n",
    "    acc_valid = accuracy_score(y_valid_fold, y_valid_pred)\n",
    "    accuracies.append(acc_valid)\n",
    "\n",
    "    print(f\"train -  {acc_train:.5f}   |   valid -  {acc_valid:.5f}\")\n",
    "\n",
    "print(f\"Average accuracy on crossval is {np.mean(accuracies):.5f}\")\n",
    "print(f\"Std is {np.std(accuracies):.5f}\")"
   ]
  },
  {
   "cell_type": "markdown",
   "metadata": {},
   "source": [
    "### b. Optimizing regularization parameters"
   ]
  },
  {
   "cell_type": "markdown",
   "metadata": {},
   "source": [
    "1. In the cells below try different values of penalty: `none`, `l1`, `l2` – you can change the values of solver too."
   ]
  },
  {
   "cell_type": "code",
   "execution_count": 8,
   "metadata": {},
   "outputs": [
    {
     "name": "stdout",
     "output_type": "stream",
     "text": [
      "train -  0.66777   |   valid -  0.68639\n",
      "train -  0.66051   |   valid -  0.64497\n",
      "train -  0.66183   |   valid -  0.68639\n",
      "train -  0.67106   |   valid -  0.59763\n",
      "train -  0.67436   |   valid -  0.58580\n",
      "train -  0.66051   |   valid -  0.63314\n",
      "train -  0.67062   |   valid -  0.61905\n",
      "train -  0.65547   |   valid -  0.61310\n",
      "train -  0.65744   |   valid -  0.67857\n",
      "train -  0.66469   |   valid -  0.58333\n",
      "Average accuracy on crossval is 0.63284\n",
      "Std is 0.03802\n",
      "CPU times: user 20.3 s, sys: 269 ms, total: 20.6 s\n",
      "Wall time: 20.8 s\n"
     ]
    }
   ],
   "source": [
    "%%time\n",
    "penalty = None\n",
    "solver = 'saga'\n",
    "\n",
    "skf = StratifiedKFold(n_splits=10, shuffle=True, random_state=21)\n",
    "\n",
    "accuracies = []\n",
    "for train_idx, valid_idx in skf.split(X, y):\n",
    "    X_train_fold, X_valid_fold = X.iloc[train_idx], X.iloc[valid_idx]\n",
    "    y_train_fold, y_valid_fold = y.iloc[train_idx], y.iloc[valid_idx]\n",
    "    \n",
    "    logreg_model = LogisticRegression(\n",
    "        penalty=penalty,\n",
    "        solver=solver,\n",
    "        fit_intercept=True,\n",
    "        random_state=21,\n",
    "        max_iter=10000\n",
    "    )\n",
    "    logreg_model.fit(X_train_fold, y_train_fold)\n",
    "\n",
    "    y_train_pred = logreg_model.predict(X_train_fold)\n",
    "    y_valid_pred = logreg_model.predict(X_valid_fold)\n",
    "\n",
    "    acc_train = accuracy_score(y_train_fold, y_train_pred)\n",
    "    acc_valid = accuracy_score(y_valid_fold, y_valid_pred)\n",
    "    accuracies.append(acc_valid)\n",
    "\n",
    "    print(f\"train -  {acc_train:.5f}   |   valid -  {acc_valid:.5f}\")\n",
    "\n",
    "print(f\"Average accuracy on crossval is {np.mean(accuracies):.5f}\")\n",
    "print(f\"Std is {np.std(accuracies):.5f}\")"
   ]
  },
  {
   "cell_type": "code",
   "execution_count": 9,
   "metadata": {},
   "outputs": [
    {
     "name": "stdout",
     "output_type": "stream",
     "text": [
      "train -  0.63546   |   valid -  0.63905\n",
      "train -  0.63217   |   valid -  0.60947\n",
      "train -  0.63217   |   valid -  0.65089\n",
      "train -  0.62887   |   valid -  0.58580\n",
      "train -  0.64140   |   valid -  0.56213\n",
      "train -  0.62755   |   valid -  0.59763\n",
      "train -  0.62582   |   valid -  0.59524\n",
      "train -  0.61792   |   valid -  0.54762\n",
      "train -  0.61792   |   valid -  0.63690\n",
      "train -  0.62978   |   valid -  0.56548\n",
      "Average accuracy on crossval is 0.59902\n",
      "Std is 0.03340\n",
      "CPU times: user 308 ms, sys: 4.92 ms, total: 313 ms\n",
      "Wall time: 313 ms\n"
     ]
    }
   ],
   "source": [
    "%%time\n",
    "penalty = 'l1'\n",
    "solver = 'liblinear'\n",
    "\n",
    "skf = StratifiedKFold(n_splits=10, shuffle=True, random_state=21)\n",
    "\n",
    "accuracies = []\n",
    "for train_idx, valid_idx in skf.split(X, y):\n",
    "    X_train_fold, X_valid_fold = X.iloc[train_idx], X.iloc[valid_idx]\n",
    "    y_train_fold, y_valid_fold = y.iloc[train_idx], y.iloc[valid_idx]\n",
    "    \n",
    "    logreg_model = LogisticRegression(\n",
    "        penalty=penalty,\n",
    "        solver=solver,\n",
    "        fit_intercept=True,\n",
    "        random_state=21,\n",
    "        max_iter=10000\n",
    "    )\n",
    "    logreg_model.fit(X_train_fold, y_train_fold)\n",
    "\n",
    "    y_train_pred = logreg_model.predict(X_train_fold)\n",
    "    y_valid_pred = logreg_model.predict(X_valid_fold)\n",
    "\n",
    "    acc_train = accuracy_score(y_train_fold, y_train_pred)\n",
    "    acc_valid = accuracy_score(y_valid_fold, y_valid_pred)\n",
    "    accuracies.append(acc_valid)\n",
    "\n",
    "    print(f\"train -  {acc_train:.5f}   |   valid -  {acc_valid:.5f}\")\n",
    "\n",
    "print(f\"Average accuracy on crossval is {np.mean(accuracies):.5f}\")\n",
    "print(f\"Std is {np.std(accuracies):.5f}\")"
   ]
  },
  {
   "cell_type": "code",
   "execution_count": 10,
   "metadata": {},
   "outputs": [
    {
     "name": "stdout",
     "output_type": "stream",
     "text": [
      "train -  0.63744   |   valid -  0.65680\n",
      "train -  0.65524   |   valid -  0.62722\n",
      "train -  0.64074   |   valid -  0.63905\n",
      "train -  0.63678   |   valid -  0.59172\n",
      "train -  0.65260   |   valid -  0.58580\n",
      "train -  0.64601   |   valid -  0.61538\n",
      "train -  0.64493   |   valid -  0.61310\n",
      "train -  0.64097   |   valid -  0.58929\n",
      "train -  0.64427   |   valid -  0.68452\n",
      "train -  0.64097   |   valid -  0.56548\n",
      "Average accuracy on crossval is 0.61684\n",
      "Std is 0.03433\n",
      "CPU times: user 125 ms, sys: 3.41 ms, total: 129 ms\n",
      "Wall time: 129 ms\n"
     ]
    }
   ],
   "source": [
    "%%time\n",
    "penalty = 'l2'\n",
    "solver = 'lbfgs'\n",
    "\n",
    "skf = StratifiedKFold(n_splits=10, shuffle=True, random_state=21)\n",
    "\n",
    "accuracies = []\n",
    "for train_idx, valid_idx in skf.split(X, y):\n",
    "    X_train_fold, X_valid_fold = X.iloc[train_idx], X.iloc[valid_idx]\n",
    "    y_train_fold, y_valid_fold = y.iloc[train_idx], y.iloc[valid_idx]\n",
    "    \n",
    "    logreg_model = LogisticRegression(\n",
    "        penalty=penalty,\n",
    "        solver=solver,\n",
    "        fit_intercept=True,\n",
    "        random_state=21,\n",
    "        max_iter=10000\n",
    "    )\n",
    "    logreg_model.fit(X_train_fold, y_train_fold)\n",
    "\n",
    "    y_train_pred = logreg_model.predict(X_train_fold)\n",
    "    y_valid_pred = logreg_model.predict(X_valid_fold)\n",
    "\n",
    "    acc_train = accuracy_score(y_train_fold, y_train_pred)\n",
    "    acc_valid = accuracy_score(y_valid_fold, y_valid_pred)\n",
    "    accuracies.append(acc_valid)\n",
    "\n",
    "    print(f\"train -  {acc_train:.5f}   |   valid -  {acc_valid:.5f}\")\n",
    "\n",
    "print(f\"Average accuracy on crossval is {np.mean(accuracies):.5f}\")\n",
    "print(f\"Std is {np.std(accuracies):.5f}\")"
   ]
  },
  {
   "cell_type": "markdown",
   "metadata": {},
   "source": [
    "## 3. SVM regularization"
   ]
  },
  {
   "cell_type": "markdown",
   "metadata": {},
   "source": [
    "### a. Default regularization"
   ]
  },
  {
   "cell_type": "markdown",
   "metadata": {},
   "source": [
    "1. Train a baseline model with the only parameters `probability=True`, `kernel='linear'`, `random_state=21`.\n",
    "2. Use stratified K-fold cross-validation with `10` splits to evaluate the accuracy of the model.\n",
    "3. The format of the result of the code where you trained and evaluated the baseline model should be similar to what you have got for the logreg."
   ]
  },
  {
   "cell_type": "code",
   "execution_count": 11,
   "metadata": {},
   "outputs": [
    {
     "name": "stdout",
     "output_type": "stream",
     "text": [
      "train -  0.70138   |   valid -  0.71598\n",
      "train -  0.69677   |   valid -  0.68639\n",
      "train -  0.70402   |   valid -  0.71006\n",
      "train -  0.69941   |   valid -  0.63905\n",
      "train -  0.71127   |   valid -  0.62130\n",
      "train -  0.70336   |   valid -  0.69822\n",
      "train -  0.69038   |   valid -  0.67857\n",
      "train -  0.70487   |   valid -  0.69048\n",
      "train -  0.69895   |   valid -  0.71429\n",
      "train -  0.70026   |   valid -  0.61905\n",
      "Average accuracy on crossval is 0.67734\n",
      "Std is 0.03553\n"
     ]
    }
   ],
   "source": [
    "svm_model = SVC(probability=True, random_state=21, kernel='linear')\n",
    "skf = StratifiedKFold(n_splits=10, shuffle=True, random_state=21)\n",
    "accuracies = []\n",
    "\n",
    "for train_idx, valid_idx in skf.split(X, y):\n",
    "    X_train_fold, X_valid_fold = X.iloc[train_idx], X.iloc[valid_idx]\n",
    "    y_train_fold, y_valid_fold = y.iloc[train_idx], y.iloc[valid_idx]\n",
    "\n",
    "    svm_model.fit(X_train_fold, y_train_fold)\n",
    "\n",
    "    y_train_pred = svm_model.predict(X_train_fold)\n",
    "    y_valid_pred = svm_model.predict(X_valid_fold)\n",
    "\n",
    "    acc_train = accuracy_score(y_train_fold, y_train_pred)\n",
    "    acc_valid = accuracy_score(y_valid_fold, y_valid_pred)\n",
    "    accuracies.append(acc_valid)\n",
    "\n",
    "    print(f\"train -  {acc_train:.5f}   |   valid -  {acc_valid:.5f}\")\n",
    "\n",
    "print(f\"Average accuracy on crossval is {np.mean(accuracies):.5f}\")\n",
    "print(f\"Std is {np.std(accuracies):.5f}\")"
   ]
  },
  {
   "cell_type": "markdown",
   "metadata": {},
   "source": [
    "### b. Optimizing regularization parameters"
   ]
  },
  {
   "cell_type": "markdown",
   "metadata": {},
   "source": [
    "1. In the cells below try different values of the parameter `C`."
   ]
  },
  {
   "cell_type": "code",
   "execution_count": 12,
   "metadata": {},
   "outputs": [
    {
     "name": "stdout",
     "output_type": "stream",
     "text": [
      "train -  0.70138   |   valid -  0.71598\n",
      "train -  0.69677   |   valid -  0.68639\n",
      "train -  0.70402   |   valid -  0.71006\n",
      "train -  0.69941   |   valid -  0.63905\n",
      "train -  0.71127   |   valid -  0.62130\n",
      "train -  0.70336   |   valid -  0.69822\n",
      "train -  0.69038   |   valid -  0.67857\n",
      "train -  0.70487   |   valid -  0.69048\n",
      "train -  0.69895   |   valid -  0.71429\n",
      "train -  0.70026   |   valid -  0.61905\n",
      "Average accuracy on crossval is 0.67734\n",
      "Std is 0.03553\n"
     ]
    }
   ],
   "source": [
    "svm_model = SVC(probability=True, random_state=21, kernel='linear', C=1.0)\n",
    "skf = StratifiedKFold(n_splits=10, shuffle=True, random_state=21)\n",
    "accuracies = []\n",
    "\n",
    "for train_idx, valid_idx in skf.split(X, y):\n",
    "    X_train_fold, X_valid_fold = X.iloc[train_idx], X.iloc[valid_idx]\n",
    "    y_train_fold, y_valid_fold = y.iloc[train_idx], y.iloc[valid_idx]\n",
    "\n",
    "    svm_model.fit(X_train_fold, y_train_fold)\n",
    "\n",
    "    y_train_pred = svm_model.predict(X_train_fold)\n",
    "    y_valid_pred = svm_model.predict(X_valid_fold)\n",
    "\n",
    "    acc_train = accuracy_score(y_train_fold, y_train_pred)\n",
    "    acc_valid = accuracy_score(y_valid_fold, y_valid_pred)\n",
    "    accuracies.append(acc_valid)\n",
    "\n",
    "    print(f\"train -  {acc_train:.5f}   |   valid -  {acc_valid:.5f}\")\n",
    "\n",
    "print(f\"Average accuracy on crossval is {np.mean(accuracies):.5f}\")\n",
    "print(f\"Std is {np.std(accuracies):.5f}\")"
   ]
  },
  {
   "cell_type": "code",
   "execution_count": 13,
   "metadata": {},
   "outputs": [
    {
     "name": "stdout",
     "output_type": "stream",
     "text": [
      "train -  0.77521   |   valid -  0.75740\n",
      "train -  0.77587   |   valid -  0.73964\n",
      "train -  0.77983   |   valid -  0.75740\n",
      "train -  0.78049   |   valid -  0.75148\n",
      "train -  0.78510   |   valid -  0.69822\n",
      "train -  0.76664   |   valid -  0.75740\n",
      "train -  0.78195   |   valid -  0.77381\n",
      "train -  0.78195   |   valid -  0.75595\n",
      "train -  0.77800   |   valid -  0.78571\n",
      "train -  0.76680   |   valid -  0.71429\n",
      "Average accuracy on crossval is 0.74913\n",
      "Std is 0.02470\n"
     ]
    }
   ],
   "source": [
    "svm_model = SVC(probability=True, random_state=21, kernel='linear', C=10.0)\n",
    "skf = StratifiedKFold(n_splits=10, shuffle=True, random_state=21)\n",
    "accuracies = []\n",
    "\n",
    "for train_idx, valid_idx in skf.split(X, y):\n",
    "    X_train_fold, X_valid_fold = X.iloc[train_idx], X.iloc[valid_idx]\n",
    "    y_train_fold, y_valid_fold = y.iloc[train_idx], y.iloc[valid_idx]\n",
    "\n",
    "    svm_model.fit(X_train_fold, y_train_fold)\n",
    "\n",
    "    y_train_pred = svm_model.predict(X_train_fold)\n",
    "    y_valid_pred = svm_model.predict(X_valid_fold)\n",
    "\n",
    "    acc_train = accuracy_score(y_train_fold, y_train_pred)\n",
    "    acc_valid = accuracy_score(y_valid_fold, y_valid_pred)\n",
    "    accuracies.append(acc_valid)\n",
    "\n",
    "    print(f\"train -  {acc_train:.5f}   |   valid -  {acc_valid:.5f}\")\n",
    "\n",
    "print(f\"Average accuracy on crossval is {np.mean(accuracies):.5f}\")\n",
    "print(f\"Std is {np.std(accuracies):.5f}\")"
   ]
  },
  {
   "cell_type": "code",
   "execution_count": 14,
   "metadata": {},
   "outputs": [
    {
     "name": "stdout",
     "output_type": "stream",
     "text": [
      "train -  0.78840   |   valid -  0.75740\n",
      "train -  0.79038   |   valid -  0.75740\n",
      "train -  0.79895   |   valid -  0.76923\n",
      "train -  0.79301   |   valid -  0.76331\n",
      "train -  0.81147   |   valid -  0.71598\n",
      "train -  0.78642   |   valid -  0.77515\n",
      "train -  0.79051   |   valid -  0.77381\n",
      "train -  0.80237   |   valid -  0.77976\n",
      "train -  0.79974   |   valid -  0.76786\n",
      "train -  0.80896   |   valid -  0.73214\n",
      "Average accuracy on crossval is 0.75920\n",
      "Std is 0.01921\n"
     ]
    }
   ],
   "source": [
    "svm_model = SVC(probability=True, random_state=21, kernel='linear', C=100.0)\n",
    "skf = StratifiedKFold(n_splits=10, shuffle=True, random_state=21)\n",
    "accuracies = []\n",
    "\n",
    "for train_idx, valid_idx in skf.split(X, y):\n",
    "    X_train_fold, X_valid_fold = X.iloc[train_idx], X.iloc[valid_idx]\n",
    "    y_train_fold, y_valid_fold = y.iloc[train_idx], y.iloc[valid_idx]\n",
    "\n",
    "    svm_model.fit(X_train_fold, y_train_fold)\n",
    "\n",
    "    y_train_pred = svm_model.predict(X_train_fold)\n",
    "    y_valid_pred = svm_model.predict(X_valid_fold)\n",
    "\n",
    "    acc_train = accuracy_score(y_train_fold, y_train_pred)\n",
    "    acc_valid = accuracy_score(y_valid_fold, y_valid_pred)\n",
    "    accuracies.append(acc_valid)\n",
    "\n",
    "    print(f\"train -  {acc_train:.5f}   |   valid -  {acc_valid:.5f}\")\n",
    "\n",
    "print(f\"Average accuracy on crossval is {np.mean(accuracies):.5f}\")\n",
    "print(f\"Std is {np.std(accuracies):.5f}\")"
   ]
  },
  {
   "cell_type": "markdown",
   "metadata": {},
   "source": [
    "## 4. Tree"
   ]
  },
  {
   "cell_type": "markdown",
   "metadata": {},
   "source": [
    "### a. Default regularization"
   ]
  },
  {
   "cell_type": "markdown",
   "metadata": {},
   "source": [
    "1. Train a baseline model with the only parameter `max_depth=10` and `random_state=21`.\n",
    "2. Use stratified K-fold cross-validation with `10` splits to evaluate the accuracy of the model.\n",
    "3. The format of the result of the code where you trained and evaluated the baseline model should be similar to what you have got for the logreg."
   ]
  },
  {
   "cell_type": "code",
   "execution_count": 15,
   "metadata": {},
   "outputs": [
    {
     "name": "stdout",
     "output_type": "stream",
     "text": [
      "train -  0.82004   |   valid -  0.79290\n",
      "train -  0.82663   |   valid -  0.69822\n",
      "train -  0.82927   |   valid -  0.76331\n",
      "train -  0.81806   |   valid -  0.71598\n",
      "train -  0.82268   |   valid -  0.74556\n",
      "train -  0.80554   |   valid -  0.77515\n",
      "train -  0.83333   |   valid -  0.75595\n",
      "train -  0.81555   |   valid -  0.76786\n",
      "train -  0.81225   |   valid -  0.77381\n",
      "train -  0.81752   |   valid -  0.69048\n",
      "Average accuracy on crossval is 0.74792\n",
      "Std is 0.03306\n"
     ]
    }
   ],
   "source": [
    "tree_model = DecisionTreeClassifier(max_depth=10, random_state=21)\n",
    "skf = StratifiedKFold(n_splits=10, shuffle=True, random_state=21)\n",
    "accuracies = []\n",
    "\n",
    "for train_idx, valid_idx in skf.split(X, y):\n",
    "    X_train_fold, X_valid_fold = X.iloc[train_idx], X.iloc[valid_idx]\n",
    "    y_train_fold, y_valid_fold = y.iloc[train_idx], y.iloc[valid_idx]\n",
    "\n",
    "    tree_model.fit(X_train_fold, y_train_fold)\n",
    "\n",
    "    y_train_pred = tree_model.predict(X_train_fold)\n",
    "    y_valid_pred = tree_model.predict(X_valid_fold)\n",
    "\n",
    "    acc_train = accuracy_score(y_train_fold, y_train_pred)\n",
    "    acc_valid = accuracy_score(y_valid_fold, y_valid_pred)\n",
    "    accuracies.append(acc_valid)\n",
    "\n",
    "    print(f\"train -  {acc_train:.5f}   |   valid -  {acc_valid:.5f}\")\n",
    "\n",
    "print(f\"Average accuracy on crossval is {np.mean(accuracies):.5f}\")\n",
    "print(f\"Std is {np.std(accuracies):.5f}\")"
   ]
  },
  {
   "cell_type": "markdown",
   "metadata": {},
   "source": [
    "### b. Optimizing regularization parameters"
   ]
  },
  {
   "cell_type": "markdown",
   "metadata": {},
   "source": [
    "1. In the cells below try different values of the parameter `max_depth`.\n",
    "2. As a bonus, play with other regularization parameters trying to find the best combination."
   ]
  },
  {
   "cell_type": "code",
   "execution_count": 16,
   "metadata": {},
   "outputs": [
    {
     "name": "stdout",
     "output_type": "stream",
     "text": [
      "train -  0.62096   |   valid -  0.62130\n",
      "train -  0.61042   |   valid -  0.55030\n",
      "train -  0.62426   |   valid -  0.59763\n",
      "train -  0.60976   |   valid -  0.59172\n",
      "train -  0.61305   |   valid -  0.53846\n",
      "train -  0.60382   |   valid -  0.56213\n",
      "train -  0.61199   |   valid -  0.61905\n",
      "train -  0.61199   |   valid -  0.59524\n",
      "train -  0.60738   |   valid -  0.64286\n",
      "train -  0.62187   |   valid -  0.55952\n",
      "Average accuracy on crossval is 0.58782\n",
      "Std is 0.03255\n"
     ]
    }
   ],
   "source": [
    "tree_model = DecisionTreeClassifier(max_depth=5, random_state=21, min_samples_split=5)\n",
    "skf = StratifiedKFold(n_splits=10, shuffle=True, random_state=21)\n",
    "accuracies = []\n",
    "\n",
    "for train_idx, valid_idx in skf.split(X, y):\n",
    "    X_train_fold, X_valid_fold = X.iloc[train_idx], X.iloc[valid_idx]\n",
    "    y_train_fold, y_valid_fold = y.iloc[train_idx], y.iloc[valid_idx]\n",
    "\n",
    "    tree_model.fit(X_train_fold, y_train_fold)\n",
    "\n",
    "    y_train_pred = tree_model.predict(X_train_fold)\n",
    "    y_valid_pred = tree_model.predict(X_valid_fold)\n",
    "\n",
    "    acc_train = accuracy_score(y_train_fold, y_train_pred)\n",
    "    acc_valid = accuracy_score(y_valid_fold, y_valid_pred)\n",
    "    accuracies.append(acc_valid)\n",
    "\n",
    "    print(f\"train -  {acc_train:.5f}   |   valid -  {acc_valid:.5f}\")\n",
    "\n",
    "print(f\"Average accuracy on crossval is {np.mean(accuracies):.5f}\")\n",
    "print(f\"Std is {np.std(accuracies):.5f}\")"
   ]
  },
  {
   "cell_type": "code",
   "execution_count": 17,
   "metadata": {},
   "outputs": [
    {
     "name": "stdout",
     "output_type": "stream",
     "text": [
      "train -  0.98088   |   valid -  0.88166\n",
      "train -  0.97495   |   valid -  0.82840\n",
      "train -  0.97956   |   valid -  0.92308\n",
      "train -  0.97693   |   valid -  0.88166\n",
      "train -  0.97693   |   valid -  0.89941\n",
      "train -  0.97561   |   valid -  0.92899\n",
      "train -  0.97892   |   valid -  0.89881\n",
      "train -  0.98155   |   valid -  0.88690\n",
      "train -  0.97563   |   valid -  0.89286\n",
      "train -  0.98221   |   valid -  0.84524\n",
      "Average accuracy on crossval is 0.88670\n",
      "Std is 0.02937\n"
     ]
    }
   ],
   "source": [
    "tree_model = DecisionTreeClassifier(max_depth=30, random_state=21, min_samples_split=5)\n",
    "skf = StratifiedKFold(n_splits=10, shuffle=True, random_state=21)\n",
    "accuracies = []\n",
    "\n",
    "for train_idx, valid_idx in skf.split(X, y):\n",
    "    X_train_fold, X_valid_fold = X.iloc[train_idx], X.iloc[valid_idx]\n",
    "    y_train_fold, y_valid_fold = y.iloc[train_idx], y.iloc[valid_idx]\n",
    "\n",
    "    tree_model.fit(X_train_fold, y_train_fold)\n",
    "\n",
    "    y_train_pred = tree_model.predict(X_train_fold)\n",
    "    y_valid_pred = tree_model.predict(X_valid_fold)\n",
    "\n",
    "    acc_train = accuracy_score(y_train_fold, y_train_pred)\n",
    "    acc_valid = accuracy_score(y_valid_fold, y_valid_pred)\n",
    "    accuracies.append(acc_valid)\n",
    "\n",
    "    print(f\"train -  {acc_train:.5f}   |   valid -  {acc_valid:.5f}\")\n",
    "\n",
    "print(f\"Average accuracy on crossval is {np.mean(accuracies):.5f}\")\n",
    "print(f\"Std is {np.std(accuracies):.5f}\")"
   ]
  },
  {
   "cell_type": "code",
   "execution_count": 18,
   "metadata": {},
   "outputs": [
    {
     "name": "stdout",
     "output_type": "stream",
     "text": [
      "train -  0.95649   |   valid -  0.86982\n",
      "train -  0.94990   |   valid -  0.78107\n",
      "train -  0.95122   |   valid -  0.91124\n",
      "train -  0.94595   |   valid -  0.87574\n",
      "train -  0.95320   |   valid -  0.86391\n",
      "train -  0.94199   |   valid -  0.85207\n",
      "train -  0.95125   |   valid -  0.90476\n",
      "train -  0.94862   |   valid -  0.85119\n",
      "train -  0.94928   |   valid -  0.90476\n",
      "train -  0.95850   |   valid -  0.82143\n",
      "Average accuracy on crossval is 0.86360\n",
      "Std is 0.03837\n"
     ]
    }
   ],
   "source": [
    "tree_model = DecisionTreeClassifier(max_depth=40, random_state=21, min_samples_split=10)\n",
    "skf = StratifiedKFold(n_splits=10, shuffle=True, random_state=21)\n",
    "accuracies = []\n",
    "\n",
    "for train_idx, valid_idx in skf.split(X, y):\n",
    "    X_train_fold, X_valid_fold = X.iloc[train_idx], X.iloc[valid_idx]\n",
    "    y_train_fold, y_valid_fold = y.iloc[train_idx], y.iloc[valid_idx]\n",
    "\n",
    "    tree_model.fit(X_train_fold, y_train_fold)\n",
    "\n",
    "    y_train_pred = tree_model.predict(X_train_fold)\n",
    "    y_valid_pred = tree_model.predict(X_valid_fold)\n",
    "\n",
    "    acc_train = accuracy_score(y_train_fold, y_train_pred)\n",
    "    acc_valid = accuracy_score(y_valid_fold, y_valid_pred)\n",
    "    accuracies.append(acc_valid)\n",
    "\n",
    "    print(f\"train -  {acc_train:.5f}   |   valid -  {acc_valid:.5f}\")\n",
    "\n",
    "print(f\"Average accuracy on crossval is {np.mean(accuracies):.5f}\")\n",
    "print(f\"Std is {np.std(accuracies):.5f}\")"
   ]
  },
  {
   "cell_type": "code",
   "execution_count": 19,
   "metadata": {},
   "outputs": [
    {
     "name": "stdout",
     "output_type": "stream",
     "text": [
      "train -  0.94265   |   valid -  0.86391\n",
      "train -  0.94792   |   valid -  0.79290\n",
      "train -  0.93935   |   valid -  0.88757\n",
      "train -  0.93540   |   valid -  0.84024\n",
      "train -  0.93606   |   valid -  0.85799\n",
      "train -  0.93474   |   valid -  0.87574\n",
      "train -  0.93874   |   valid -  0.88095\n",
      "train -  0.94137   |   valid -  0.83333\n",
      "train -  0.94005   |   valid -  0.88690\n",
      "train -  0.93610   |   valid -  0.81548\n",
      "Average accuracy on crossval is 0.85350\n",
      "Std is 0.03058\n"
     ]
    }
   ],
   "source": [
    "tree_model = DecisionTreeClassifier(max_depth=50, random_state=21, min_samples_split=3, min_samples_leaf=3)\n",
    "skf = StratifiedKFold(n_splits=10, shuffle=True, random_state=21)\n",
    "accuracies = []\n",
    "\n",
    "for train_idx, valid_idx in skf.split(X, y):\n",
    "    X_train_fold, X_valid_fold = X.iloc[train_idx], X.iloc[valid_idx]\n",
    "    y_train_fold, y_valid_fold = y.iloc[train_idx], y.iloc[valid_idx]\n",
    "\n",
    "    tree_model.fit(X_train_fold, y_train_fold)\n",
    "\n",
    "    y_train_pred = tree_model.predict(X_train_fold)\n",
    "    y_valid_pred = tree_model.predict(X_valid_fold)\n",
    "\n",
    "    acc_train = accuracy_score(y_train_fold, y_train_pred)\n",
    "    acc_valid = accuracy_score(y_valid_fold, y_valid_pred)\n",
    "    accuracies.append(acc_valid)\n",
    "\n",
    "    print(f\"train -  {acc_train:.5f}   |   valid -  {acc_valid:.5f}\")\n",
    "\n",
    "print(f\"Average accuracy on crossval is {np.mean(accuracies):.5f}\")\n",
    "print(f\"Std is {np.std(accuracies):.5f}\")"
   ]
  },
  {
   "cell_type": "code",
   "execution_count": 20,
   "metadata": {},
   "outputs": [
    {
     "name": "stdout",
     "output_type": "stream",
     "text": [
      "train -  0.87343   |   valid -  0.78107\n",
      "train -  0.87014   |   valid -  0.75148\n",
      "train -  0.88794   |   valid -  0.81657\n",
      "train -  0.85695   |   valid -  0.76923\n",
      "train -  0.88662   |   valid -  0.81065\n",
      "train -  0.83982   |   valid -  0.76923\n",
      "train -  0.85573   |   valid -  0.77381\n",
      "train -  0.87879   |   valid -  0.79167\n",
      "train -  0.90184   |   valid -  0.84524\n",
      "train -  0.86495   |   valid -  0.80952\n",
      "Average accuracy on crossval is 0.79185\n",
      "Std is 0.02687\n"
     ]
    }
   ],
   "source": [
    "tree_model = DecisionTreeClassifier(max_depth=50, random_state=21, min_samples_split=3, min_samples_leaf=3, max_features=10)\n",
    "skf = StratifiedKFold(n_splits=10, shuffle=True, random_state=21)\n",
    "accuracies = []\n",
    "\n",
    "for train_idx, valid_idx in skf.split(X, y):\n",
    "    X_train_fold, X_valid_fold = X.iloc[train_idx], X.iloc[valid_idx]\n",
    "    y_train_fold, y_valid_fold = y.iloc[train_idx], y.iloc[valid_idx]\n",
    "\n",
    "    tree_model.fit(X_train_fold, y_train_fold)\n",
    "\n",
    "    y_train_pred = tree_model.predict(X_train_fold)\n",
    "    y_valid_pred = tree_model.predict(X_valid_fold)\n",
    "\n",
    "    acc_train = accuracy_score(y_train_fold, y_train_pred)\n",
    "    acc_valid = accuracy_score(y_valid_fold, y_valid_pred)\n",
    "    accuracies.append(acc_valid)\n",
    "\n",
    "    print(f\"train -  {acc_train:.5f}   |   valid -  {acc_valid:.5f}\")\n",
    "\n",
    "print(f\"Average accuracy on crossval is {np.mean(accuracies):.5f}\")\n",
    "print(f\"Std is {np.std(accuracies):.5f}\")"
   ]
  },
  {
   "cell_type": "markdown",
   "metadata": {},
   "source": [
    "## 5. Random forest"
   ]
  },
  {
   "cell_type": "markdown",
   "metadata": {},
   "source": [
    "### a. Default regularization"
   ]
  },
  {
   "cell_type": "markdown",
   "metadata": {},
   "source": [
    "1. Train a baseline model with the only parameters `n_estimators=50`, `max_depth=14`, `random_state=21`.\n",
    "2. Use stratified K-fold cross-validation with `10` splits to evaluate the accuracy of the model.\n",
    "3. The format of the result of the code where you trained and evaluated the baseline model should be similar to what you have got for the logreg."
   ]
  },
  {
   "cell_type": "code",
   "execution_count": 21,
   "metadata": {},
   "outputs": [
    {
     "name": "stdout",
     "output_type": "stream",
     "text": [
      "train -  0.97034   |   valid -  0.90533\n",
      "train -  0.96704   |   valid -  0.87574\n",
      "train -  0.96902   |   valid -  0.91124\n",
      "train -  0.97429   |   valid -  0.89349\n",
      "train -  0.96243   |   valid -  0.86982\n",
      "train -  0.96638   |   valid -  0.94083\n",
      "train -  0.97036   |   valid -  0.92262\n",
      "train -  0.97036   |   valid -  0.91667\n",
      "train -  0.96838   |   valid -  0.89881\n",
      "train -  0.97563   |   valid -  0.88690\n",
      "Average accuracy on crossval is 0.90214\n",
      "Std is 0.02069\n"
     ]
    }
   ],
   "source": [
    "forest_model = RandomForestClassifier(n_estimators=50, max_depth=14, random_state=21)\n",
    "skf = StratifiedKFold(n_splits=10, shuffle=True, random_state=21)\n",
    "accuracies = []\n",
    "\n",
    "for train_idx, valid_idx in skf.split(X, y):\n",
    "    X_train_fold, X_valid_fold = X.iloc[train_idx], X.iloc[valid_idx]\n",
    "    y_train_fold, y_valid_fold = y.iloc[train_idx], y.iloc[valid_idx]\n",
    "\n",
    "    forest_model.fit(X_train_fold, y_train_fold)\n",
    "\n",
    "    y_train_pred = forest_model.predict(X_train_fold)\n",
    "    y_valid_pred = forest_model.predict(X_valid_fold)\n",
    "\n",
    "    acc_train = accuracy_score(y_train_fold, y_train_pred)\n",
    "    acc_valid = accuracy_score(y_valid_fold, y_valid_pred)\n",
    "    accuracies.append(acc_valid)\n",
    "\n",
    "    print(f\"train -  {acc_train:.5f}   |   valid -  {acc_valid:.5f}\")\n",
    "\n",
    "print(f\"Average accuracy on crossval is {np.mean(accuracies):.5f}\")\n",
    "print(f\"Std is {np.std(accuracies):.5f}\")"
   ]
  },
  {
   "cell_type": "markdown",
   "metadata": {},
   "source": [
    "### b. Optimizing regularization parameters"
   ]
  },
  {
   "cell_type": "markdown",
   "metadata": {},
   "source": [
    "1. In the new cells try different values of the parameters `max_depth` and `n_estimators`.\n",
    "2. As a bonus, play with other regularization parameters trying to find the best combination."
   ]
  },
  {
   "cell_type": "code",
   "execution_count": 22,
   "metadata": {},
   "outputs": [
    {
     "name": "stdout",
     "output_type": "stream",
     "text": [
      "train -  1.00000   |   valid -  0.92899\n",
      "train -  1.00000   |   valid -  0.91716\n",
      "train -  1.00000   |   valid -  0.94675\n",
      "train -  1.00000   |   valid -  0.93491\n",
      "train -  1.00000   |   valid -  0.92308\n",
      "train -  1.00000   |   valid -  0.94675\n",
      "train -  1.00000   |   valid -  0.94643\n",
      "train -  1.00000   |   valid -  0.92262\n",
      "train -  1.00000   |   valid -  0.93452\n",
      "train -  1.00000   |   valid -  0.92262\n",
      "Average accuracy on crossval is 0.93238\n",
      "Std is 0.01068\n"
     ]
    }
   ],
   "source": [
    "forest_model = RandomForestClassifier(n_estimators=100, max_depth=30, random_state=21)\n",
    "skf = StratifiedKFold(n_splits=10, shuffle=True, random_state=21)\n",
    "accuracies = []\n",
    "\n",
    "for train_idx, valid_idx in skf.split(X, y):\n",
    "    X_train_fold, X_valid_fold = X.iloc[train_idx], X.iloc[valid_idx]\n",
    "    y_train_fold, y_valid_fold = y.iloc[train_idx], y.iloc[valid_idx]\n",
    "\n",
    "    forest_model.fit(X_train_fold, y_train_fold)\n",
    "\n",
    "    y_train_pred = forest_model.predict(X_train_fold)\n",
    "    y_valid_pred = forest_model.predict(X_valid_fold)\n",
    "\n",
    "    acc_train = accuracy_score(y_train_fold, y_train_pred)\n",
    "    acc_valid = accuracy_score(y_valid_fold, y_valid_pred)\n",
    "    accuracies.append(acc_valid)\n",
    "\n",
    "    print(f\"train -  {acc_train:.5f}   |   valid -  {acc_valid:.5f}\")\n",
    "\n",
    "print(f\"Average accuracy on crossval is {np.mean(accuracies):.5f}\")\n",
    "print(f\"Std is {np.std(accuracies):.5f}\")"
   ]
  },
  {
   "cell_type": "code",
   "execution_count": 23,
   "metadata": {},
   "outputs": [
    {
     "name": "stdout",
     "output_type": "stream",
     "text": [
      "train -  0.47858   |   valid -  0.47929\n",
      "train -  0.47462   |   valid -  0.43195\n",
      "train -  0.47660   |   valid -  0.46154\n",
      "train -  0.50890   |   valid -  0.48521\n",
      "train -  0.48583   |   valid -  0.43787\n",
      "train -  0.48187   |   valid -  0.46746\n",
      "train -  0.46838   |   valid -  0.48810\n",
      "train -  0.47760   |   valid -  0.48810\n",
      "train -  0.46245   |   valid -  0.45238\n",
      "train -  0.48946   |   valid -  0.51786\n",
      "Average accuracy on crossval is 0.47097\n",
      "Std is 0.02474\n"
     ]
    }
   ],
   "source": [
    "forest_model = RandomForestClassifier(n_estimators=10, max_depth=3, random_state=21)\n",
    "skf = StratifiedKFold(n_splits=10, shuffle=True, random_state=21)\n",
    "accuracies = []\n",
    "\n",
    "for train_idx, valid_idx in skf.split(X, y):\n",
    "    X_train_fold, X_valid_fold = X.iloc[train_idx], X.iloc[valid_idx]\n",
    "    y_train_fold, y_valid_fold = y.iloc[train_idx], y.iloc[valid_idx]\n",
    "\n",
    "    forest_model.fit(X_train_fold, y_train_fold)\n",
    "\n",
    "    y_train_pred = forest_model.predict(X_train_fold)\n",
    "    y_valid_pred = forest_model.predict(X_valid_fold)\n",
    "\n",
    "    acc_train = accuracy_score(y_train_fold, y_train_pred)\n",
    "    acc_valid = accuracy_score(y_valid_fold, y_valid_pred)\n",
    "    accuracies.append(acc_valid)\n",
    "\n",
    "    print(f\"train -  {acc_train:.5f}   |   valid -  {acc_valid:.5f}\")\n",
    "\n",
    "print(f\"Average accuracy on crossval is {np.mean(accuracies):.5f}\")\n",
    "print(f\"Std is {np.std(accuracies):.5f}\")"
   ]
  },
  {
   "cell_type": "code",
   "execution_count": 24,
   "metadata": {},
   "outputs": [
    {
     "name": "stdout",
     "output_type": "stream",
     "text": [
      "train -  1.00000   |   valid -  0.92899\n",
      "train -  1.00000   |   valid -  0.92308\n",
      "train -  1.00000   |   valid -  0.94675\n",
      "train -  1.00000   |   valid -  0.93491\n",
      "train -  1.00000   |   valid -  0.92308\n",
      "train -  1.00000   |   valid -  0.94675\n",
      "train -  1.00000   |   valid -  0.95238\n",
      "train -  1.00000   |   valid -  0.92262\n",
      "train -  1.00000   |   valid -  0.93452\n",
      "train -  1.00000   |   valid -  0.92262\n",
      "Average accuracy on crossval is 0.93357\n",
      "Std is 0.01088\n"
     ]
    }
   ],
   "source": [
    "forest_model = RandomForestClassifier(n_estimators=150, max_depth=30, random_state=21, bootstrap=True)\n",
    "skf = StratifiedKFold(n_splits=10, shuffle=True, random_state=21)\n",
    "accuracies = []\n",
    "\n",
    "for train_idx, valid_idx in skf.split(X, y):\n",
    "    X_train_fold, X_valid_fold = X.iloc[train_idx], X.iloc[valid_idx]\n",
    "    y_train_fold, y_valid_fold = y.iloc[train_idx], y.iloc[valid_idx]\n",
    "\n",
    "    forest_model.fit(X_train_fold, y_train_fold)\n",
    "\n",
    "    y_train_pred = forest_model.predict(X_train_fold)\n",
    "    y_valid_pred = forest_model.predict(X_valid_fold)\n",
    "\n",
    "    acc_train = accuracy_score(y_train_fold, y_train_pred)\n",
    "    acc_valid = accuracy_score(y_valid_fold, y_valid_pred)\n",
    "    accuracies.append(acc_valid)\n",
    "\n",
    "    print(f\"train -  {acc_train:.5f}   |   valid -  {acc_valid:.5f}\")\n",
    "\n",
    "print(f\"Average accuracy on crossval is {np.mean(accuracies):.5f}\")\n",
    "print(f\"Std is {np.std(accuracies):.5f}\")"
   ]
  },
  {
   "cell_type": "markdown",
   "metadata": {},
   "source": [
    "## 6. Predictions"
   ]
  },
  {
   "cell_type": "markdown",
   "metadata": {},
   "source": [
    "1. Choose the best model and use it to make predictions for the test dataset.\n",
    "2. Calculate the final accuracy.\n",
    "3. Analyze: for which weekday your model makes the most errors (in % of the total number of samples of that class in your test dataset).\n",
    "4. Save the model."
   ]
  },
  {
   "cell_type": "code",
   "execution_count": 25,
   "metadata": {},
   "outputs": [],
   "source": [
    "forest_model = RandomForestClassifier(n_estimators=100, max_depth=30, random_state=21)\n",
    "forest_model.fit(X_train, y_train)\n",
    "y_pred = forest_model.predict(X_test)"
   ]
  },
  {
   "cell_type": "code",
   "execution_count": 26,
   "metadata": {},
   "outputs": [
    {
     "data": {
      "text/plain": [
       "0.9378698224852071"
      ]
     },
     "execution_count": 26,
     "metadata": {},
     "output_type": "execute_result"
    }
   ],
   "source": [
    "acc = accuracy_score(y_test, y_pred)\n",
    "acc"
   ]
  },
  {
   "cell_type": "code",
   "execution_count": 27,
   "metadata": {},
   "outputs": [
    {
     "data": {
      "text/html": [
       "<div>\n",
       "<style scoped>\n",
       "    .dataframe tbody tr th:only-of-type {\n",
       "        vertical-align: middle;\n",
       "    }\n",
       "\n",
       "    .dataframe tbody tr th {\n",
       "        vertical-align: top;\n",
       "    }\n",
       "\n",
       "    .dataframe thead th {\n",
       "        text-align: right;\n",
       "    }\n",
       "</style>\n",
       "<table border=\"1\" class=\"dataframe\">\n",
       "  <thead>\n",
       "    <tr style=\"text-align: right;\">\n",
       "      <th></th>\n",
       "      <th>true</th>\n",
       "      <th>predicted</th>\n",
       "      <th>is_error</th>\n",
       "    </tr>\n",
       "  </thead>\n",
       "  <tbody>\n",
       "    <tr>\n",
       "      <th>1087</th>\n",
       "      <td>1</td>\n",
       "      <td>1</td>\n",
       "      <td>False</td>\n",
       "    </tr>\n",
       "    <tr>\n",
       "      <th>16</th>\n",
       "      <td>5</td>\n",
       "      <td>5</td>\n",
       "      <td>False</td>\n",
       "    </tr>\n",
       "    <tr>\n",
       "      <th>563</th>\n",
       "      <td>6</td>\n",
       "      <td>6</td>\n",
       "      <td>False</td>\n",
       "    </tr>\n",
       "    <tr>\n",
       "      <th>1381</th>\n",
       "      <td>3</td>\n",
       "      <td>3</td>\n",
       "      <td>False</td>\n",
       "    </tr>\n",
       "    <tr>\n",
       "      <th>1199</th>\n",
       "      <td>2</td>\n",
       "      <td>2</td>\n",
       "      <td>False</td>\n",
       "    </tr>\n",
       "  </tbody>\n",
       "</table>\n",
       "</div>"
      ],
      "text/plain": [
       "      true  predicted  is_error\n",
       "1087     1          1     False\n",
       "16       5          5     False\n",
       "563      6          6     False\n",
       "1381     3          3     False\n",
       "1199     2          2     False"
      ]
     },
     "execution_count": 27,
     "metadata": {},
     "output_type": "execute_result"
    }
   ],
   "source": [
    "errors = pd.DataFrame({\n",
    "    'true': y_test,\n",
    "    'predicted': y_pred\n",
    "})\n",
    "errors['is_error'] = errors['true'] != errors['predicted']\n",
    "errors.head()"
   ]
  },
  {
   "cell_type": "code",
   "execution_count": 28,
   "metadata": {},
   "outputs": [
    {
     "data": {
      "text/html": [
       "<div>\n",
       "<style scoped>\n",
       "    .dataframe tbody tr th:only-of-type {\n",
       "        vertical-align: middle;\n",
       "    }\n",
       "\n",
       "    .dataframe tbody tr th {\n",
       "        vertical-align: top;\n",
       "    }\n",
       "\n",
       "    .dataframe thead th {\n",
       "        text-align: right;\n",
       "    }\n",
       "</style>\n",
       "<table border=\"1\" class=\"dataframe\">\n",
       "  <thead>\n",
       "    <tr style=\"text-align: right;\">\n",
       "      <th></th>\n",
       "      <th>sum</th>\n",
       "      <th>count</th>\n",
       "      <th>error_pct</th>\n",
       "    </tr>\n",
       "    <tr>\n",
       "      <th>true</th>\n",
       "      <th></th>\n",
       "      <th></th>\n",
       "      <th></th>\n",
       "    </tr>\n",
       "  </thead>\n",
       "  <tbody>\n",
       "    <tr>\n",
       "      <th>0</th>\n",
       "      <td>7</td>\n",
       "      <td>27</td>\n",
       "      <td>25.925926</td>\n",
       "    </tr>\n",
       "    <tr>\n",
       "      <th>4</th>\n",
       "      <td>3</td>\n",
       "      <td>21</td>\n",
       "      <td>14.285714</td>\n",
       "    </tr>\n",
       "    <tr>\n",
       "      <th>2</th>\n",
       "      <td>2</td>\n",
       "      <td>30</td>\n",
       "      <td>6.666667</td>\n",
       "    </tr>\n",
       "    <tr>\n",
       "      <th>5</th>\n",
       "      <td>3</td>\n",
       "      <td>54</td>\n",
       "      <td>5.555556</td>\n",
       "    </tr>\n",
       "    <tr>\n",
       "      <th>1</th>\n",
       "      <td>3</td>\n",
       "      <td>55</td>\n",
       "      <td>5.454545</td>\n",
       "    </tr>\n",
       "    <tr>\n",
       "      <th>3</th>\n",
       "      <td>2</td>\n",
       "      <td>80</td>\n",
       "      <td>2.500000</td>\n",
       "    </tr>\n",
       "    <tr>\n",
       "      <th>6</th>\n",
       "      <td>1</td>\n",
       "      <td>71</td>\n",
       "      <td>1.408451</td>\n",
       "    </tr>\n",
       "  </tbody>\n",
       "</table>\n",
       "</div>"
      ],
      "text/plain": [
       "      sum  count  error_pct\n",
       "true                       \n",
       "0       7     27  25.925926\n",
       "4       3     21  14.285714\n",
       "2       2     30   6.666667\n",
       "5       3     54   5.555556\n",
       "1       3     55   5.454545\n",
       "3       2     80   2.500000\n",
       "6       1     71   1.408451"
      ]
     },
     "execution_count": 28,
     "metadata": {},
     "output_type": "execute_result"
    }
   ],
   "source": [
    "error_stats = (\n",
    "    errors.groupby('true')['is_error'].agg(['sum', 'count']).assign(error_pct=lambda x: 100 * x['sum'] / x['count']).sort_values(by='error_pct', ascending=False)\n",
    ")\n",
    "error_stats"
   ]
  },
  {
   "cell_type": "markdown",
   "metadata": {},
   "source": [
    "ANSWER: больше всего ошибок в понедельник. На 2 месте пятница"
   ]
  },
  {
   "cell_type": "code",
   "execution_count": 29,
   "metadata": {},
   "outputs": [
    {
     "data": {
      "text/plain": [
       "['forest_model.joblib']"
      ]
     },
     "execution_count": 29,
     "metadata": {},
     "output_type": "execute_result"
    }
   ],
   "source": [
    "joblib.dump(forest_model, 'forest_model.joblib')"
   ]
  }
 ],
 "metadata": {
  "kernelspec": {
   "display_name": "Python 3",
   "language": "python",
   "name": "python3"
  },
  "language_info": {
   "codemirror_mode": {
    "name": "ipython",
    "version": 3
   },
   "file_extension": ".py",
   "mimetype": "text/x-python",
   "name": "python",
   "nbconvert_exporter": "python",
   "pygments_lexer": "ipython3",
   "version": "3.13.1"
  }
 },
 "nbformat": 4,
 "nbformat_minor": 4
}
