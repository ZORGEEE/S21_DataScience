{
 "cells": [
  {
   "cell_type": "markdown",
   "metadata": {},
   "source": [
    "# Day 09. Exercise 03\n",
    "# Ensembles"
   ]
  },
  {
   "cell_type": "markdown",
   "metadata": {},
   "source": [
    "## 0. Imports"
   ]
  },
  {
   "cell_type": "code",
   "execution_count": 1,
   "metadata": {},
   "outputs": [],
   "source": [
    "import pandas as pd\n",
    "from sklearn.model_selection import train_test_split\n",
    "from sklearn.svm import SVC\n",
    "from sklearn.tree import DecisionTreeClassifier\n",
    "from sklearn.ensemble import RandomForestClassifier\n",
    "from sklearn.metrics import accuracy_score, recall_score, precision_score\n",
    "from sklearn.ensemble import VotingClassifier\n",
    "from sklearn.ensemble import BaggingClassifier\n",
    "from sklearn.model_selection import StratifiedKFold\n",
    "from sklearn.ensemble import StackingClassifier\n",
    "from sklearn.linear_model import LogisticRegression\n",
    "import joblib"
   ]
  },
  {
   "cell_type": "markdown",
   "metadata": {},
   "source": [
    "## 1. Preprocessing"
   ]
  },
  {
   "cell_type": "markdown",
   "metadata": {},
   "source": [
    "1. Create the same dataframe as in the previous exercise.\n",
    "2. Using `train_test_split` with parameters `test_size=0.2`, `random_state=21` get `X_train`, `y_train`, `X_test`, `y_test` and then get `X_train`, `y_train`, `X_valid`, `y_valid` from the previous `X_train`, `y_train`. Use the additional parameter `stratify`."
   ]
  },
  {
   "cell_type": "code",
   "execution_count": 2,
   "metadata": {},
   "outputs": [
    {
     "data": {
      "text/html": [
       "<div>\n",
       "<style scoped>\n",
       "    .dataframe tbody tr th:only-of-type {\n",
       "        vertical-align: middle;\n",
       "    }\n",
       "\n",
       "    .dataframe tbody tr th {\n",
       "        vertical-align: top;\n",
       "    }\n",
       "\n",
       "    .dataframe thead th {\n",
       "        text-align: right;\n",
       "    }\n",
       "</style>\n",
       "<table border=\"1\" class=\"dataframe\">\n",
       "  <thead>\n",
       "    <tr style=\"text-align: right;\">\n",
       "      <th></th>\n",
       "      <th>numTrials</th>\n",
       "      <th>hour</th>\n",
       "      <th>uid_user_0</th>\n",
       "      <th>uid_user_1</th>\n",
       "      <th>uid_user_10</th>\n",
       "      <th>uid_user_11</th>\n",
       "      <th>uid_user_12</th>\n",
       "      <th>uid_user_13</th>\n",
       "      <th>uid_user_14</th>\n",
       "      <th>uid_user_15</th>\n",
       "      <th>...</th>\n",
       "      <th>labname_lab03</th>\n",
       "      <th>labname_lab03s</th>\n",
       "      <th>labname_lab05s</th>\n",
       "      <th>labname_laba04</th>\n",
       "      <th>labname_laba04s</th>\n",
       "      <th>labname_laba05</th>\n",
       "      <th>labname_laba06</th>\n",
       "      <th>labname_laba06s</th>\n",
       "      <th>labname_project1</th>\n",
       "      <th>dayofweek</th>\n",
       "    </tr>\n",
       "  </thead>\n",
       "  <tbody>\n",
       "    <tr>\n",
       "      <th>0</th>\n",
       "      <td>1</td>\n",
       "      <td>5</td>\n",
       "      <td>0.0</td>\n",
       "      <td>0.0</td>\n",
       "      <td>0.0</td>\n",
       "      <td>0.0</td>\n",
       "      <td>0.0</td>\n",
       "      <td>0.0</td>\n",
       "      <td>0.0</td>\n",
       "      <td>0.0</td>\n",
       "      <td>...</td>\n",
       "      <td>0.0</td>\n",
       "      <td>0.0</td>\n",
       "      <td>0.0</td>\n",
       "      <td>0.0</td>\n",
       "      <td>0.0</td>\n",
       "      <td>0.0</td>\n",
       "      <td>0.0</td>\n",
       "      <td>0.0</td>\n",
       "      <td>1.0</td>\n",
       "      <td>4</td>\n",
       "    </tr>\n",
       "    <tr>\n",
       "      <th>1</th>\n",
       "      <td>2</td>\n",
       "      <td>5</td>\n",
       "      <td>0.0</td>\n",
       "      <td>0.0</td>\n",
       "      <td>0.0</td>\n",
       "      <td>0.0</td>\n",
       "      <td>0.0</td>\n",
       "      <td>0.0</td>\n",
       "      <td>0.0</td>\n",
       "      <td>0.0</td>\n",
       "      <td>...</td>\n",
       "      <td>0.0</td>\n",
       "      <td>0.0</td>\n",
       "      <td>0.0</td>\n",
       "      <td>0.0</td>\n",
       "      <td>0.0</td>\n",
       "      <td>0.0</td>\n",
       "      <td>0.0</td>\n",
       "      <td>0.0</td>\n",
       "      <td>1.0</td>\n",
       "      <td>4</td>\n",
       "    </tr>\n",
       "    <tr>\n",
       "      <th>2</th>\n",
       "      <td>3</td>\n",
       "      <td>5</td>\n",
       "      <td>0.0</td>\n",
       "      <td>0.0</td>\n",
       "      <td>0.0</td>\n",
       "      <td>0.0</td>\n",
       "      <td>0.0</td>\n",
       "      <td>0.0</td>\n",
       "      <td>0.0</td>\n",
       "      <td>0.0</td>\n",
       "      <td>...</td>\n",
       "      <td>0.0</td>\n",
       "      <td>0.0</td>\n",
       "      <td>0.0</td>\n",
       "      <td>0.0</td>\n",
       "      <td>0.0</td>\n",
       "      <td>0.0</td>\n",
       "      <td>0.0</td>\n",
       "      <td>0.0</td>\n",
       "      <td>1.0</td>\n",
       "      <td>4</td>\n",
       "    </tr>\n",
       "    <tr>\n",
       "      <th>3</th>\n",
       "      <td>4</td>\n",
       "      <td>5</td>\n",
       "      <td>0.0</td>\n",
       "      <td>0.0</td>\n",
       "      <td>0.0</td>\n",
       "      <td>0.0</td>\n",
       "      <td>0.0</td>\n",
       "      <td>0.0</td>\n",
       "      <td>0.0</td>\n",
       "      <td>0.0</td>\n",
       "      <td>...</td>\n",
       "      <td>0.0</td>\n",
       "      <td>0.0</td>\n",
       "      <td>0.0</td>\n",
       "      <td>0.0</td>\n",
       "      <td>0.0</td>\n",
       "      <td>0.0</td>\n",
       "      <td>0.0</td>\n",
       "      <td>0.0</td>\n",
       "      <td>1.0</td>\n",
       "      <td>4</td>\n",
       "    </tr>\n",
       "    <tr>\n",
       "      <th>4</th>\n",
       "      <td>5</td>\n",
       "      <td>5</td>\n",
       "      <td>0.0</td>\n",
       "      <td>0.0</td>\n",
       "      <td>0.0</td>\n",
       "      <td>0.0</td>\n",
       "      <td>0.0</td>\n",
       "      <td>0.0</td>\n",
       "      <td>0.0</td>\n",
       "      <td>0.0</td>\n",
       "      <td>...</td>\n",
       "      <td>0.0</td>\n",
       "      <td>0.0</td>\n",
       "      <td>0.0</td>\n",
       "      <td>0.0</td>\n",
       "      <td>0.0</td>\n",
       "      <td>0.0</td>\n",
       "      <td>0.0</td>\n",
       "      <td>0.0</td>\n",
       "      <td>1.0</td>\n",
       "      <td>4</td>\n",
       "    </tr>\n",
       "  </tbody>\n",
       "</table>\n",
       "<p>5 rows × 44 columns</p>\n",
       "</div>"
      ],
      "text/plain": [
       "   numTrials  hour  uid_user_0  uid_user_1  uid_user_10  uid_user_11  \\\n",
       "0          1     5         0.0         0.0          0.0          0.0   \n",
       "1          2     5         0.0         0.0          0.0          0.0   \n",
       "2          3     5         0.0         0.0          0.0          0.0   \n",
       "3          4     5         0.0         0.0          0.0          0.0   \n",
       "4          5     5         0.0         0.0          0.0          0.0   \n",
       "\n",
       "   uid_user_12  uid_user_13  uid_user_14  uid_user_15  ...  labname_lab03  \\\n",
       "0          0.0          0.0          0.0          0.0  ...            0.0   \n",
       "1          0.0          0.0          0.0          0.0  ...            0.0   \n",
       "2          0.0          0.0          0.0          0.0  ...            0.0   \n",
       "3          0.0          0.0          0.0          0.0  ...            0.0   \n",
       "4          0.0          0.0          0.0          0.0  ...            0.0   \n",
       "\n",
       "   labname_lab03s  labname_lab05s  labname_laba04  labname_laba04s  \\\n",
       "0             0.0             0.0             0.0              0.0   \n",
       "1             0.0             0.0             0.0              0.0   \n",
       "2             0.0             0.0             0.0              0.0   \n",
       "3             0.0             0.0             0.0              0.0   \n",
       "4             0.0             0.0             0.0              0.0   \n",
       "\n",
       "   labname_laba05  labname_laba06  labname_laba06s  labname_project1  \\\n",
       "0             0.0             0.0              0.0               1.0   \n",
       "1             0.0             0.0              0.0               1.0   \n",
       "2             0.0             0.0              0.0               1.0   \n",
       "3             0.0             0.0              0.0               1.0   \n",
       "4             0.0             0.0              0.0               1.0   \n",
       "\n",
       "   dayofweek  \n",
       "0          4  \n",
       "1          4  \n",
       "2          4  \n",
       "3          4  \n",
       "4          4  \n",
       "\n",
       "[5 rows x 44 columns]"
      ]
     },
     "execution_count": 2,
     "metadata": {},
     "output_type": "execute_result"
    }
   ],
   "source": [
    "df = pd.read_csv(\"../data/day-of-week-not-scaled.csv\")\n",
    "dayofweek = pd.read_csv(\"../data/dayofweek.csv\")\n",
    "df['dayofweek'] = dayofweek['dayofweek'].values\n",
    "df.head()"
   ]
  },
  {
   "cell_type": "code",
   "execution_count": 3,
   "metadata": {},
   "outputs": [],
   "source": [
    "X = df.drop(columns='dayofweek')\n",
    "y = df['dayofweek']\n",
    "X_train, X_test, y_train, y_test = train_test_split(\n",
    "    X, y,\n",
    "    test_size=0.2,\n",
    "    random_state=21,\n",
    "    stratify=y\n",
    ")\n",
    "\n",
    "X_train, X_valid, y_train, y_valid = train_test_split(\n",
    "    X_train, y_train,\n",
    "    test_size=0.2,\n",
    "    random_state=21,\n",
    "    stratify=y_train\n",
    ")"
   ]
  },
  {
   "cell_type": "markdown",
   "metadata": {},
   "source": [
    "## 2. Individual classifiers"
   ]
  },
  {
   "cell_type": "markdown",
   "metadata": {},
   "source": [
    "1. Train SVM, decision tree and random forest again with the best parameters that you got from the 01 exercise with `random_state=21` for all of them.\n",
    "2. Evaluate `accuracy`, `precision`, and `recall` for them on the validation set.\n",
    "3. The result of each cell of the section should look like this:\n",
    "\n",
    "```\n",
    "accuracy is 0.87778\n",
    "precision is 0.88162\n",
    "recall is 0.87778\n",
    "```"
   ]
  },
  {
   "cell_type": "code",
   "execution_count": 4,
   "metadata": {},
   "outputs": [
    {
     "name": "stdout",
     "output_type": "stream",
     "text": [
      "accuracy is 0.87778\n",
      "precision is 0.88162\n",
      "recall is 0.87778\n"
     ]
    }
   ],
   "source": [
    "svm_model = SVC(\n",
    "    probability=True, \n",
    "    random_state=21, \n",
    "    C=10, \n",
    "    class_weight=None,\n",
    "    gamma='auto',\n",
    "    kernel='rbf'\n",
    ")\n",
    "svm_model.fit(X_train, y_train)\n",
    "y_valid_pred = svm_model.predict(X_valid)\n",
    "\n",
    "print(f\"accuracy is {accuracy_score(y_valid, y_valid_pred):.5f}\")\n",
    "print(f\"precision is {precision_score(y_valid, y_valid_pred, average='weighted'):.5f}\")\n",
    "print(f\"recall is {recall_score(y_valid, y_valid_pred, average='weighted'):.5f}\")"
   ]
  },
  {
   "cell_type": "code",
   "execution_count": 5,
   "metadata": {},
   "outputs": [
    {
     "name": "stdout",
     "output_type": "stream",
     "text": [
      "accuracy is 0.85926\n",
      "precision is 0.86306\n",
      "recall is 0.85926\n"
     ]
    }
   ],
   "source": [
    "tree_model = DecisionTreeClassifier(\n",
    "    random_state=21,\n",
    "    class_weight='balanced',\n",
    "    criterion='gini',\n",
    "    max_depth=23\n",
    ")\n",
    "tree_model.fit(X_train, y_train)\n",
    "y_valid_pred = tree_model.predict(X_valid)\n",
    "\n",
    "print(f\"accuracy is {accuracy_score(y_valid, y_valid_pred):.5f}\")\n",
    "print(f\"precision is {precision_score(y_valid, y_valid_pred, average='weighted'):.5f}\")\n",
    "print(f\"recall is {recall_score(y_valid, y_valid_pred, average='weighted'):.5f}\")"
   ]
  },
  {
   "cell_type": "code",
   "execution_count": 6,
   "metadata": {},
   "outputs": [
    {
     "name": "stdout",
     "output_type": "stream",
     "text": [
      "accuracy is 0.88889\n",
      "precision is 0.88952\n",
      "recall is 0.88889\n"
     ]
    }
   ],
   "source": [
    "forest_model = RandomForestClassifier(\n",
    "    random_state=21, \n",
    "    class_weight=None,\n",
    "    criterion='gini',\n",
    "    max_depth=28,\n",
    "    n_estimators=50\n",
    ")\n",
    "forest_model.fit(X_train, y_train)\n",
    "y_valid_pred = forest_model.predict(X_valid)\n",
    "\n",
    "print(f\"accuracy is {accuracy_score(y_valid, y_valid_pred):.5f}\")\n",
    "print(f\"precision is {precision_score(y_valid, y_valid_pred, average='weighted'):.5f}\")\n",
    "print(f\"recall is {recall_score(y_valid, y_valid_pred, average='weighted'):.5f}\")"
   ]
  },
  {
   "cell_type": "markdown",
   "metadata": {},
   "source": [
    "## 3. Voting classifiers"
   ]
  },
  {
   "cell_type": "markdown",
   "metadata": {},
   "source": [
    "1. Using `VotingClassifier` and the three models that you have just trained, calculate the `accuracy`, `precision`, and `recall` on the validation set."
   ]
  },
  {
   "cell_type": "code",
   "execution_count": 7,
   "metadata": {},
   "outputs": [
    {
     "name": "stdout",
     "output_type": "stream",
     "text": [
      "accuracy is 0.88889\n",
      "precision is 0.88872\n",
      "recall is 0.88889\n"
     ]
    }
   ],
   "source": [
    "voting = VotingClassifier([('svc', svm_model), ('tree', tree_model), ('forest', forest_model)])\n",
    "voting.fit(X_train, y_train)\n",
    "y_valid_pred = voting.predict(X_valid)\n",
    "\n",
    "print(f\"accuracy is {accuracy_score(y_valid, y_valid_pred):.5f}\")\n",
    "print(f\"precision is {precision_score(y_valid, y_valid_pred, average='weighted'):.5f}\")\n",
    "print(f\"recall is {recall_score(y_valid, y_valid_pred, average='weighted'):.5f}\")"
   ]
  },
  {
   "cell_type": "markdown",
   "metadata": {},
   "source": [
    "2. Play with the other parameteres."
   ]
  },
  {
   "cell_type": "code",
   "execution_count": 8,
   "metadata": {},
   "outputs": [
    {
     "data": {
      "text/plain": [
       "[{'weights': (1, 1, 1),\n",
       "  'accuracy': 0.8777777777777778,\n",
       "  'precision': 0.8816801525543417,\n",
       "  'recall': 0.8777777777777778},\n",
       " {'weights': (2, 1, 1),\n",
       "  'accuracy': 0.9037037037037037,\n",
       "  'precision': 0.9051418757467145,\n",
       "  'recall': 0.9037037037037037},\n",
       " {'weights': (1, 2, 1),\n",
       "  'accuracy': 0.8592592592592593,\n",
       "  'precision': 0.8630597652455576,\n",
       "  'recall': 0.8592592592592593},\n",
       " {'weights': (1, 1, 2),\n",
       "  'accuracy': 0.8888888888888888,\n",
       "  'precision': 0.8922192012801332,\n",
       "  'recall': 0.8888888888888888},\n",
       " {'weights': (1, 2, 3),\n",
       "  'accuracy': 0.8814814814814815,\n",
       "  'precision': 0.885320847679682,\n",
       "  'recall': 0.8814814814814815},\n",
       " {'weights': (1, 3, 2),\n",
       "  'accuracy': 0.8592592592592593,\n",
       "  'precision': 0.8630597652455576,\n",
       "  'recall': 0.8592592592592593},\n",
       " {'weights': (2, 1, 3),\n",
       "  'accuracy': 0.8962962962962963,\n",
       "  'precision': 0.8969316157973241,\n",
       "  'recall': 0.8962962962962963},\n",
       " {'weights': (2, 3, 1),\n",
       "  'accuracy': 0.8592592592592593,\n",
       "  'precision': 0.8630597652455576,\n",
       "  'recall': 0.8592592592592593},\n",
       " {'weights': (3, 1, 2),\n",
       "  'accuracy': 0.9,\n",
       "  'precision': 0.9023637434101694,\n",
       "  'recall': 0.9},\n",
       " {'weights': (3, 2, 1),\n",
       "  'accuracy': 0.8888888888888888,\n",
       "  'precision': 0.8912888354513078,\n",
       "  'recall': 0.8888888888888888}]"
      ]
     },
     "execution_count": 8,
     "metadata": {},
     "output_type": "execute_result"
    }
   ],
   "source": [
    "weights_list = [\n",
    "    (1, 1, 1),\n",
    "    (2, 1, 1),\n",
    "    (1, 2, 1),\n",
    "    (1, 1, 2),\n",
    "    (1, 2, 3),\n",
    "    (1, 3, 2),\n",
    "    (2, 1, 3),\n",
    "    (2, 3, 1),\n",
    "    (3, 1, 2), \n",
    "    (3, 2, 1)\n",
    "]\n",
    "\n",
    "results = []\n",
    "\n",
    "for weight in weights_list:\n",
    "    voting = VotingClassifier(\n",
    "        estimators=[\n",
    "            ('svc', SVC(probability=True, random_state=21, C=10, class_weight=None, gamma='auto', kernel='rbf')),\n",
    "            ('tree', DecisionTreeClassifier(random_state=21, class_weight='balanced', criterion='gini', max_depth=23)),\n",
    "            ('forest', RandomForestClassifier(random_state=21, class_weight=None, criterion='gini', max_depth=28, n_estimators=50))\n",
    "        ],\n",
    "        voting='soft',\n",
    "        weights=weight\n",
    "    )\n",
    "\n",
    "    voting.fit(X_train, y_train)\n",
    "    y_valid_pred = voting.predict(X_valid)\n",
    "\n",
    "    accuracy = accuracy_score(y_valid, y_valid_pred)\n",
    "    precision = precision_score(y_valid, y_valid_pred, average='weighted')\n",
    "    recall = recall_score(y_valid, y_valid_pred, average='weighted')\n",
    "    \n",
    "    results.append({\n",
    "        'weights': weight,\n",
    "        'accuracy': accuracy,\n",
    "        'precision': precision,\n",
    "        'recall': recall\n",
    "    })\n",
    "\n",
    "results"
   ]
  },
  {
   "cell_type": "markdown",
   "metadata": {},
   "source": [
    "3. Calculate the `accuracy`, `precision` and `recall` on the test set for the model with the best weights in terms of accuracy (if there are several of them with equal values, choose the one with the higher precision)."
   ]
  },
  {
   "cell_type": "code",
   "execution_count": 9,
   "metadata": {},
   "outputs": [
    {
     "data": {
      "text/plain": [
       "[{'weights': (2, 1, 1),\n",
       "  'accuracy': 0.9037037037037037,\n",
       "  'precision': 0.9051418757467145,\n",
       "  'recall': 0.9037037037037037},\n",
       " {'weights': (3, 1, 2),\n",
       "  'accuracy': 0.9,\n",
       "  'precision': 0.9023637434101694,\n",
       "  'recall': 0.9},\n",
       " {'weights': (2, 1, 3),\n",
       "  'accuracy': 0.8962962962962963,\n",
       "  'precision': 0.8969316157973241,\n",
       "  'recall': 0.8962962962962963},\n",
       " {'weights': (1, 1, 2),\n",
       "  'accuracy': 0.8888888888888888,\n",
       "  'precision': 0.8922192012801332,\n",
       "  'recall': 0.8888888888888888},\n",
       " {'weights': (3, 2, 1),\n",
       "  'accuracy': 0.8888888888888888,\n",
       "  'precision': 0.8912888354513078,\n",
       "  'recall': 0.8888888888888888},\n",
       " {'weights': (1, 2, 3),\n",
       "  'accuracy': 0.8814814814814815,\n",
       "  'precision': 0.885320847679682,\n",
       "  'recall': 0.8814814814814815},\n",
       " {'weights': (1, 1, 1),\n",
       "  'accuracy': 0.8777777777777778,\n",
       "  'precision': 0.8816801525543417,\n",
       "  'recall': 0.8777777777777778},\n",
       " {'weights': (1, 2, 1),\n",
       "  'accuracy': 0.8592592592592593,\n",
       "  'precision': 0.8630597652455576,\n",
       "  'recall': 0.8592592592592593},\n",
       " {'weights': (1, 3, 2),\n",
       "  'accuracy': 0.8592592592592593,\n",
       "  'precision': 0.8630597652455576,\n",
       "  'recall': 0.8592592592592593},\n",
       " {'weights': (2, 3, 1),\n",
       "  'accuracy': 0.8592592592592593,\n",
       "  'precision': 0.8630597652455576,\n",
       "  'recall': 0.8592592592592593}]"
      ]
     },
     "execution_count": 9,
     "metadata": {},
     "output_type": "execute_result"
    }
   ],
   "source": [
    "sorted_results = sorted(results, key=lambda x: (x['accuracy'], x['precision']), reverse=True)\n",
    "sorted_results"
   ]
  },
  {
   "cell_type": "code",
   "execution_count": 10,
   "metadata": {},
   "outputs": [],
   "source": [
    "X_train_concat = pd.concat([X_train, X_valid])\n",
    "y_train_concat = pd.concat([y_train, y_valid])"
   ]
  },
  {
   "cell_type": "code",
   "execution_count": 11,
   "metadata": {},
   "outputs": [
    {
     "name": "stdout",
     "output_type": "stream",
     "text": [
      "accuracy is 0.92012\n",
      "precision is 0.92378\n",
      "recall is 0.92012\n"
     ]
    }
   ],
   "source": [
    "voting = VotingClassifier(\n",
    "    estimators=[\n",
    "        ('svc', SVC(probability=True, random_state=21, C=10, class_weight=None, gamma='auto', kernel='rbf')),\n",
    "        ('tree', DecisionTreeClassifier(random_state=21, class_weight='balanced', criterion='gini', max_depth=23)),\n",
    "        ('forest', RandomForestClassifier(random_state=21, class_weight=None, criterion='gini', max_depth=28, n_estimators=50))\n",
    "    ],\n",
    "    voting='soft',\n",
    "    weights=(2, 1, 1)\n",
    ")\n",
    "voting.fit(X_train_concat, y_train_concat)\n",
    "y_pred = voting.predict(X_test)\n",
    "\n",
    "print(f\"accuracy is {accuracy_score(y_test, y_pred):.5f}\")\n",
    "print(f\"precision is {precision_score(y_test, y_pred, average='weighted'):.5f}\")\n",
    "print(f\"recall is {recall_score(y_test, y_pred, average='weighted'):.5f}\")"
   ]
  },
  {
   "cell_type": "markdown",
   "metadata": {},
   "source": [
    "## 4. Bagging classifiers"
   ]
  },
  {
   "cell_type": "markdown",
   "metadata": {},
   "source": [
    "1. Using `BaggingClassifier` and `SVM` with the best parameters create an ensemble, try different values of the `n_estimators`, use `random_state=21`."
   ]
  },
  {
   "cell_type": "code",
   "execution_count": 12,
   "metadata": {},
   "outputs": [
    {
     "name": "stdout",
     "output_type": "stream",
     "text": [
      "accuracy is 0.88519\n",
      "precision is 0.89427\n",
      "recall is 0.88519\n"
     ]
    }
   ],
   "source": [
    "bagging = BaggingClassifier(\n",
    "    estimator=SVC(\n",
    "        probability=True, \n",
    "        random_state=21, \n",
    "        C=10, \n",
    "        class_weight=None,\n",
    "        gamma='auto',\n",
    "        kernel='rbf'\n",
    "    ),\n",
    "    n_estimators=10,\n",
    "    random_state=21\n",
    ")\n",
    "\n",
    "bagging.fit(X_train, y_train)\n",
    "y_valid_pred = bagging.predict(X_valid)\n",
    "\n",
    "print(f\"accuracy is {accuracy_score(y_valid, y_valid_pred):.5f}\")\n",
    "print(f\"precision is {precision_score(y_valid, y_valid_pred, average='weighted'):.5f}\")\n",
    "print(f\"recall is {recall_score(y_valid, y_valid_pred, average='weighted'):.5f}\")"
   ]
  },
  {
   "cell_type": "code",
   "execution_count": 13,
   "metadata": {},
   "outputs": [
    {
     "name": "stdout",
     "output_type": "stream",
     "text": [
      "accuracy is 0.88889\n",
      "precision is 0.89718\n",
      "recall is 0.88889\n"
     ]
    }
   ],
   "source": [
    "bagging = BaggingClassifier(\n",
    "    estimator=SVC(\n",
    "        probability=True, \n",
    "        random_state=21, \n",
    "        C=10, \n",
    "        class_weight=None,\n",
    "        gamma='auto',\n",
    "        kernel='rbf'\n",
    "    ),\n",
    "    n_estimators=30,\n",
    "    random_state=21\n",
    ")\n",
    "\n",
    "bagging.fit(X_train, y_train)\n",
    "y_valid_pred = bagging.predict(X_valid)\n",
    "\n",
    "print(f\"accuracy is {accuracy_score(y_valid, y_valid_pred):.5f}\")\n",
    "print(f\"precision is {precision_score(y_valid, y_valid_pred, average='weighted'):.5f}\")\n",
    "print(f\"recall is {recall_score(y_valid, y_valid_pred, average='weighted'):.5f}\")"
   ]
  },
  {
   "cell_type": "markdown",
   "metadata": {},
   "source": [
    "2. Play with the other parameters."
   ]
  },
  {
   "cell_type": "code",
   "execution_count": 14,
   "metadata": {},
   "outputs": [
    {
     "name": "stdout",
     "output_type": "stream",
     "text": [
      "params: {'n_estimators': 30, 'max_samples': 0.5, 'max_features': 0.5}\n",
      "accuracy is 0.65556\n",
      "precision is 0.74354\n",
      "recall is 0.65556\n",
      "params: {'n_estimators': 30, 'max_samples': 0.5, 'max_features': 0.7}\n",
      "accuracy is 0.74074\n",
      "precision is 0.79057\n",
      "recall is 0.74074\n",
      "params: {'n_estimators': 30, 'max_samples': 0.5, 'max_features': 1.0}\n",
      "accuracy is 0.82222\n",
      "precision is 0.83976\n",
      "recall is 0.82222\n",
      "params: {'n_estimators': 30, 'max_samples': 0.7, 'max_features': 0.5}\n",
      "accuracy is 0.68148\n",
      "precision is 0.75594\n",
      "recall is 0.68148\n",
      "params: {'n_estimators': 30, 'max_samples': 0.7, 'max_features': 0.7}\n",
      "accuracy is 0.78889\n",
      "precision is 0.81714\n",
      "recall is 0.78889\n",
      "params: {'n_estimators': 30, 'max_samples': 0.7, 'max_features': 1.0}\n",
      "accuracy is 0.86296\n",
      "precision is 0.87310\n",
      "recall is 0.86296\n",
      "params: {'n_estimators': 30, 'max_samples': 1.0, 'max_features': 0.5}\n",
      "accuracy is 0.74815\n",
      "precision is 0.78441\n",
      "recall is 0.74815\n",
      "params: {'n_estimators': 30, 'max_samples': 1.0, 'max_features': 0.7}\n",
      "accuracy is 0.84074\n",
      "precision is 0.85991\n",
      "recall is 0.84074\n",
      "params: {'n_estimators': 30, 'max_samples': 1.0, 'max_features': 1.0}\n",
      "accuracy is 0.88889\n",
      "precision is 0.89718\n",
      "recall is 0.88889\n"
     ]
    }
   ],
   "source": [
    "param_combinations = [\n",
    "    {'n_estimators': 30, 'max_samples': 0.5, 'max_features': 0.5},\n",
    "    {'n_estimators': 30, 'max_samples': 0.5, 'max_features': 0.7},\n",
    "    {'n_estimators': 30, 'max_samples': 0.5, 'max_features': 1.0},\n",
    "    {'n_estimators': 30, 'max_samples': 0.7, 'max_features': 0.5},\n",
    "    {'n_estimators': 30, 'max_samples': 0.7, 'max_features': 0.7},\n",
    "    {'n_estimators': 30, 'max_samples': 0.7, 'max_features': 1.0},\n",
    "    {'n_estimators': 30, 'max_samples': 1.0, 'max_features': 0.5},\n",
    "    {'n_estimators': 30, 'max_samples': 1.0, 'max_features': 0.7},\n",
    "    {'n_estimators': 30, 'max_samples': 1.0, 'max_features': 1.0},\n",
    "]\n",
    "\n",
    "for params in param_combinations:\n",
    "    bagging = BaggingClassifier(\n",
    "    estimator=SVC(\n",
    "        probability=True, \n",
    "        random_state=21, \n",
    "        C=10, \n",
    "        class_weight=None,\n",
    "        gamma='auto',\n",
    "        kernel='rbf'\n",
    "    ),\n",
    "    random_state=21,\n",
    "    **params\n",
    "    )\n",
    "\n",
    "    bagging.fit(X_train, y_train)\n",
    "    y_valid_pred = bagging.predict(X_valid)\n",
    "\n",
    "    print(f\"params: {params}\")\n",
    "    print(f\"accuracy is {accuracy_score(y_valid, y_valid_pred):.5f}\")\n",
    "    print(f\"precision is {precision_score(y_valid, y_valid_pred, average='weighted'):.5f}\")\n",
    "    print(f\"recall is {recall_score(y_valid, y_valid_pred, average='weighted'):.5f}\")"
   ]
  },
  {
   "cell_type": "markdown",
   "metadata": {},
   "source": [
    "3. Calculate the `accuracy`, `precision`, and `recall` for the model with the best parameters (in terms of accuracy) on the test set (if there are several of them with equal values, choose the one with the higher precision)"
   ]
  },
  {
   "cell_type": "code",
   "execution_count": 15,
   "metadata": {},
   "outputs": [
    {
     "name": "stdout",
     "output_type": "stream",
     "text": [
      "accuracy is 0.90237\n",
      "precision is 0.90532\n",
      "recall is 0.90237\n"
     ]
    }
   ],
   "source": [
    "best_model = BaggingClassifier(\n",
    "    estimator=SVC(\n",
    "        probability=True, \n",
    "        random_state=21, \n",
    "        C=10, \n",
    "        class_weight=None,\n",
    "        gamma='auto',\n",
    "        kernel='rbf'\n",
    "    ),\n",
    "    n_estimators=30,\n",
    "    max_samples=1.0,\n",
    "    max_features=1.0,\n",
    "    random_state=21\n",
    ")\n",
    "\n",
    "best_model.fit(X_train_concat, y_train_concat)\n",
    "y_pred = best_model.predict(X_test)\n",
    "\n",
    "\n",
    "print(f\"accuracy is {accuracy_score(y_test, y_pred):.5f}\")\n",
    "print(f\"precision is {precision_score(y_test, y_pred, average='weighted'):.5f}\")\n",
    "print(f\"recall is {recall_score(y_test, y_pred, average='weighted'):.5f}\")"
   ]
  },
  {
   "cell_type": "markdown",
   "metadata": {},
   "source": [
    "## 5. Stacking classifiers"
   ]
  },
  {
   "cell_type": "markdown",
   "metadata": {},
   "source": [
    "1. To achieve reproducibility in this case you will have to create an object of cross-validation generator: `StratifiedKFold(n_splits=n, shuffle=True, random_state=21)`, where `n` you will try to optimize (the details are below).\n",
    "2. Using `StackingClassifier` and the three models that you have recently trained, calculate the `accuracy`, `precision` and `recall` on the validation set, try different values of `n_splits` `[2, 3, 4, 5, 6, 7]` in the cross-validation generator and parameter `passthrough` in the classifier itself,\n",
    "3. Calculate the `accuracy`, `precision`, and `recall` for the model with the best parameters (in terms of accuracy) on the test set (if there are several of them with equal values, choose the one with the higher precision). Use `final_estimator=LogisticRegression(solver='liblinear')`."
   ]
  },
  {
   "cell_type": "code",
   "execution_count": 16,
   "metadata": {},
   "outputs": [],
   "source": [
    "estimators = [\n",
    "    ('svc', SVC(probability=True, random_state=21, C=10, class_weight=None, gamma='auto', kernel='rbf')),\n",
    "    ('tree', DecisionTreeClassifier(random_state=21, class_weight='balanced', criterion='gini', max_depth=23)),\n",
    "    ('forest', RandomForestClassifier(random_state=21, class_weight=None, criterion='gini', max_depth=28, n_estimators=50))\n",
    "]\n",
    "\n",
    "n_splits = [2, 3, 4, 5, 6, 7]\n",
    "final_estimator = LogisticRegression(solver='liblinear')"
   ]
  },
  {
   "cell_type": "code",
   "execution_count": 17,
   "metadata": {},
   "outputs": [
    {
     "data": {
      "text/plain": [
       "[{'n_splits': 5,\n",
       "  'passthrough': True,\n",
       "  'accuracy': 0.9111111111111111,\n",
       "  'precision': 0.9145229215229215,\n",
       "  'recall': 0.9111111111111111},\n",
       " {'n_splits': 5,\n",
       "  'passthrough': False,\n",
       "  'accuracy': 0.9111111111111111,\n",
       "  'precision': 0.913185162319288,\n",
       "  'recall': 0.9111111111111111},\n",
       " {'n_splits': 6,\n",
       "  'passthrough': True,\n",
       "  'accuracy': 0.9037037037037037,\n",
       "  'precision': 0.9059595959595959,\n",
       "  'recall': 0.9037037037037037},\n",
       " {'n_splits': 7,\n",
       "  'passthrough': True,\n",
       "  'accuracy': 0.9037037037037037,\n",
       "  'precision': 0.9058052974522796,\n",
       "  'recall': 0.9037037037037037},\n",
       " {'n_splits': 6,\n",
       "  'passthrough': False,\n",
       "  'accuracy': 0.9037037037037037,\n",
       "  'precision': 0.9048202189937163,\n",
       "  'recall': 0.9037037037037037},\n",
       " {'n_splits': 4,\n",
       "  'passthrough': True,\n",
       "  'accuracy': 0.9,\n",
       "  'precision': 0.9032536559418279,\n",
       "  'recall': 0.9},\n",
       " {'n_splits': 4,\n",
       "  'passthrough': False,\n",
       "  'accuracy': 0.9,\n",
       "  'precision': 0.9030959964293298,\n",
       "  'recall': 0.9},\n",
       " {'n_splits': 2,\n",
       "  'passthrough': True,\n",
       "  'accuracy': 0.9,\n",
       "  'precision': 0.9010632969034608,\n",
       "  'recall': 0.9},\n",
       " {'n_splits': 3,\n",
       "  'passthrough': True,\n",
       "  'accuracy': 0.8925925925925926,\n",
       "  'precision': 0.8951863633619936,\n",
       "  'recall': 0.8925925925925926},\n",
       " {'n_splits': 7,\n",
       "  'passthrough': False,\n",
       "  'accuracy': 0.8925925925925926,\n",
       "  'precision': 0.8945927502454677,\n",
       "  'recall': 0.8925925925925926},\n",
       " {'n_splits': 3,\n",
       "  'passthrough': False,\n",
       "  'accuracy': 0.8925925925925926,\n",
       "  'precision': 0.8943603637152024,\n",
       "  'recall': 0.8925925925925926},\n",
       " {'n_splits': 2,\n",
       "  'passthrough': False,\n",
       "  'accuracy': 0.8851851851851852,\n",
       "  'precision': 0.8867561565202393,\n",
       "  'recall': 0.8851851851851852}]"
      ]
     },
     "execution_count": 17,
     "metadata": {},
     "output_type": "execute_result"
    }
   ],
   "source": [
    "results = []\n",
    "\n",
    "for n in n_splits:\n",
    "    for passthrough in [True, False]:\n",
    "        generator = StratifiedKFold(n_splits=n, shuffle=True, random_state=21)\n",
    "        stacking_model = StackingClassifier(\n",
    "            estimators=estimators,\n",
    "            cv = generator,\n",
    "            final_estimator=final_estimator, \n",
    "            passthrough=passthrough\n",
    "        )\n",
    "\n",
    "        stacking_model.fit(X_train, y_train)\n",
    "        y_valid_pred = stacking_model.predict(X_valid)\n",
    "\n",
    "        accuracy = accuracy_score(y_valid, y_valid_pred)\n",
    "        precision = precision_score(y_valid, y_valid_pred, average='weighted')\n",
    "        recall = recall_score(y_valid, y_valid_pred, average='weighted')\n",
    "\n",
    "        results.append({\n",
    "            'n_splits': n,\n",
    "            'passthrough': passthrough,\n",
    "            'accuracy': accuracy,\n",
    "            'precision': precision,\n",
    "            'recall': recall\n",
    "        })\n",
    "\n",
    "results = sorted(results, key=lambda x: (x['accuracy'], x['precision']), reverse=True)\n",
    "results\n",
    "    "
   ]
  },
  {
   "cell_type": "code",
   "execution_count": 18,
   "metadata": {},
   "outputs": [
    {
     "name": "stdout",
     "output_type": "stream",
     "text": [
      "accuracy is 0.92899\n",
      "precision is 0.93045\n",
      "recall is 0.92899\n"
     ]
    }
   ],
   "source": [
    "best_model = StackingClassifier(\n",
    "    estimators=estimators,\n",
    "    cv=StratifiedKFold(n_splits=5, shuffle=True, random_state=21),\n",
    "    final_estimator=final_estimator,\n",
    "    passthrough=True\n",
    ")\n",
    "\n",
    "best_model.fit(X_train_concat, y_train_concat)\n",
    "y_pred = best_model.predict(X_test)\n",
    "\n",
    "print(f\"accuracy is {accuracy_score(y_test, y_pred):.5f}\")\n",
    "print(f\"precision is {precision_score(y_test, y_pred, average='weighted'):.5f}\")\n",
    "print(f\"recall is {recall_score(y_test, y_pred, average='weighted'):.5f}\")"
   ]
  },
  {
   "cell_type": "markdown",
   "metadata": {},
   "source": [
    "## 6. Predictions"
   ]
  },
  {
   "cell_type": "markdown",
   "metadata": {},
   "source": [
    "1. Choose the best model in terms of accuracy (if there are several of them with equal values, choose the one with the higher precision).\n",
    "2. Analyze: for which weekday your model makes the most errors (in % of the total number of samples of that class in your full dataset), for which labname and for which users.\n",
    "3. Save the model."
   ]
  },
  {
   "cell_type": "code",
   "execution_count": 19,
   "metadata": {},
   "outputs": [
    {
     "data": {
      "text/html": [
       "<div>\n",
       "<style scoped>\n",
       "    .dataframe tbody tr th:only-of-type {\n",
       "        vertical-align: middle;\n",
       "    }\n",
       "\n",
       "    .dataframe tbody tr th {\n",
       "        vertical-align: top;\n",
       "    }\n",
       "\n",
       "    .dataframe thead th {\n",
       "        text-align: right;\n",
       "    }\n",
       "</style>\n",
       "<table border=\"1\" class=\"dataframe\">\n",
       "  <thead>\n",
       "    <tr style=\"text-align: right;\">\n",
       "      <th></th>\n",
       "      <th>numTrials</th>\n",
       "      <th>hour</th>\n",
       "      <th>uid_user_0</th>\n",
       "      <th>uid_user_1</th>\n",
       "      <th>uid_user_10</th>\n",
       "      <th>uid_user_11</th>\n",
       "      <th>uid_user_12</th>\n",
       "      <th>uid_user_13</th>\n",
       "      <th>uid_user_14</th>\n",
       "      <th>uid_user_15</th>\n",
       "      <th>...</th>\n",
       "      <th>labname_lab05s</th>\n",
       "      <th>labname_laba04</th>\n",
       "      <th>labname_laba04s</th>\n",
       "      <th>labname_laba05</th>\n",
       "      <th>labname_laba06</th>\n",
       "      <th>labname_laba06s</th>\n",
       "      <th>labname_project1</th>\n",
       "      <th>true</th>\n",
       "      <th>pred</th>\n",
       "      <th>is_correct</th>\n",
       "    </tr>\n",
       "  </thead>\n",
       "  <tbody>\n",
       "    <tr>\n",
       "      <th>1087</th>\n",
       "      <td>67</td>\n",
       "      <td>17</td>\n",
       "      <td>0.0</td>\n",
       "      <td>0.0</td>\n",
       "      <td>0.0</td>\n",
       "      <td>0.0</td>\n",
       "      <td>0.0</td>\n",
       "      <td>0.0</td>\n",
       "      <td>1.0</td>\n",
       "      <td>0.0</td>\n",
       "      <td>...</td>\n",
       "      <td>0.0</td>\n",
       "      <td>0.0</td>\n",
       "      <td>0.0</td>\n",
       "      <td>0.0</td>\n",
       "      <td>0.0</td>\n",
       "      <td>0.0</td>\n",
       "      <td>1.0</td>\n",
       "      <td>1</td>\n",
       "      <td>1</td>\n",
       "      <td>True</td>\n",
       "    </tr>\n",
       "    <tr>\n",
       "      <th>16</th>\n",
       "      <td>1</td>\n",
       "      <td>13</td>\n",
       "      <td>0.0</td>\n",
       "      <td>0.0</td>\n",
       "      <td>0.0</td>\n",
       "      <td>0.0</td>\n",
       "      <td>0.0</td>\n",
       "      <td>0.0</td>\n",
       "      <td>0.0</td>\n",
       "      <td>0.0</td>\n",
       "      <td>...</td>\n",
       "      <td>0.0</td>\n",
       "      <td>0.0</td>\n",
       "      <td>1.0</td>\n",
       "      <td>0.0</td>\n",
       "      <td>0.0</td>\n",
       "      <td>0.0</td>\n",
       "      <td>0.0</td>\n",
       "      <td>5</td>\n",
       "      <td>5</td>\n",
       "      <td>True</td>\n",
       "    </tr>\n",
       "    <tr>\n",
       "      <th>563</th>\n",
       "      <td>14</td>\n",
       "      <td>10</td>\n",
       "      <td>0.0</td>\n",
       "      <td>0.0</td>\n",
       "      <td>0.0</td>\n",
       "      <td>0.0</td>\n",
       "      <td>1.0</td>\n",
       "      <td>0.0</td>\n",
       "      <td>0.0</td>\n",
       "      <td>0.0</td>\n",
       "      <td>...</td>\n",
       "      <td>0.0</td>\n",
       "      <td>0.0</td>\n",
       "      <td>0.0</td>\n",
       "      <td>1.0</td>\n",
       "      <td>0.0</td>\n",
       "      <td>0.0</td>\n",
       "      <td>0.0</td>\n",
       "      <td>6</td>\n",
       "      <td>6</td>\n",
       "      <td>True</td>\n",
       "    </tr>\n",
       "    <tr>\n",
       "      <th>1381</th>\n",
       "      <td>20</td>\n",
       "      <td>15</td>\n",
       "      <td>0.0</td>\n",
       "      <td>0.0</td>\n",
       "      <td>0.0</td>\n",
       "      <td>0.0</td>\n",
       "      <td>0.0</td>\n",
       "      <td>0.0</td>\n",
       "      <td>0.0</td>\n",
       "      <td>0.0</td>\n",
       "      <td>...</td>\n",
       "      <td>0.0</td>\n",
       "      <td>0.0</td>\n",
       "      <td>0.0</td>\n",
       "      <td>0.0</td>\n",
       "      <td>0.0</td>\n",
       "      <td>0.0</td>\n",
       "      <td>1.0</td>\n",
       "      <td>3</td>\n",
       "      <td>3</td>\n",
       "      <td>True</td>\n",
       "    </tr>\n",
       "    <tr>\n",
       "      <th>1199</th>\n",
       "      <td>9</td>\n",
       "      <td>13</td>\n",
       "      <td>0.0</td>\n",
       "      <td>0.0</td>\n",
       "      <td>0.0</td>\n",
       "      <td>0.0</td>\n",
       "      <td>0.0</td>\n",
       "      <td>0.0</td>\n",
       "      <td>0.0</td>\n",
       "      <td>0.0</td>\n",
       "      <td>...</td>\n",
       "      <td>0.0</td>\n",
       "      <td>0.0</td>\n",
       "      <td>0.0</td>\n",
       "      <td>0.0</td>\n",
       "      <td>0.0</td>\n",
       "      <td>0.0</td>\n",
       "      <td>1.0</td>\n",
       "      <td>2</td>\n",
       "      <td>2</td>\n",
       "      <td>True</td>\n",
       "    </tr>\n",
       "  </tbody>\n",
       "</table>\n",
       "<p>5 rows × 46 columns</p>\n",
       "</div>"
      ],
      "text/plain": [
       "      numTrials  hour  uid_user_0  uid_user_1  uid_user_10  uid_user_11  \\\n",
       "1087         67    17         0.0         0.0          0.0          0.0   \n",
       "16            1    13         0.0         0.0          0.0          0.0   \n",
       "563          14    10         0.0         0.0          0.0          0.0   \n",
       "1381         20    15         0.0         0.0          0.0          0.0   \n",
       "1199          9    13         0.0         0.0          0.0          0.0   \n",
       "\n",
       "      uid_user_12  uid_user_13  uid_user_14  uid_user_15  ...  labname_lab05s  \\\n",
       "1087          0.0          0.0          1.0          0.0  ...             0.0   \n",
       "16            0.0          0.0          0.0          0.0  ...             0.0   \n",
       "563           1.0          0.0          0.0          0.0  ...             0.0   \n",
       "1381          0.0          0.0          0.0          0.0  ...             0.0   \n",
       "1199          0.0          0.0          0.0          0.0  ...             0.0   \n",
       "\n",
       "      labname_laba04  labname_laba04s  labname_laba05  labname_laba06  \\\n",
       "1087             0.0              0.0             0.0             0.0   \n",
       "16               0.0              1.0             0.0             0.0   \n",
       "563              0.0              0.0             1.0             0.0   \n",
       "1381             0.0              0.0             0.0             0.0   \n",
       "1199             0.0              0.0             0.0             0.0   \n",
       "\n",
       "      labname_laba06s  labname_project1  true  pred  is_correct  \n",
       "1087              0.0               1.0     1     1        True  \n",
       "16                0.0               0.0     5     5        True  \n",
       "563               0.0               0.0     6     6        True  \n",
       "1381              0.0               1.0     3     3        True  \n",
       "1199              0.0               1.0     2     2        True  \n",
       "\n",
       "[5 rows x 46 columns]"
      ]
     },
     "execution_count": 19,
     "metadata": {},
     "output_type": "execute_result"
    }
   ],
   "source": [
    "df_analyze = X_test.copy()\n",
    "df_analyze['true'] = y_test\n",
    "df_analyze['pred'] = y_pred\n",
    "df_analyze['is_correct'] = df_analyze['true'] == df_analyze['pred']\n",
    "df_analyze.head()"
   ]
  },
  {
   "cell_type": "code",
   "execution_count": 20,
   "metadata": {},
   "outputs": [
    {
     "data": {
      "text/plain": [
       "true\n",
       "3    97.500000\n",
       "6    97.183099\n",
       "2    93.333333\n",
       "1    90.909091\n",
       "5    90.740741\n",
       "4    90.476190\n",
       "0    77.777778\n",
       "Name: is_correct, dtype: float64"
      ]
     },
     "execution_count": 20,
     "metadata": {},
     "output_type": "execute_result"
    }
   ],
   "source": [
    "weekday_error = df_analyze.groupby('true')['is_correct'].mean().sort_values(ascending=False) * 100\n",
    "weekday_error"
   ]
  },
  {
   "cell_type": "markdown",
   "metadata": {},
   "source": [
    "ОТВЕТ: больше всего модель ошибается по понедельникам"
   ]
  },
  {
   "cell_type": "code",
   "execution_count": 21,
   "metadata": {},
   "outputs": [
    {
     "data": {
      "text/plain": [
       "['stacking_model.pkl']"
      ]
     },
     "execution_count": 21,
     "metadata": {},
     "output_type": "execute_result"
    }
   ],
   "source": [
    "joblib.dump(best_model, 'stacking_model.pkl')"
   ]
  }
 ],
 "metadata": {
  "kernelspec": {
   "display_name": "Python 3",
   "language": "python",
   "name": "python3"
  },
  "language_info": {
   "codemirror_mode": {
    "name": "ipython",
    "version": 3
   },
   "file_extension": ".py",
   "mimetype": "text/x-python",
   "name": "python",
   "nbconvert_exporter": "python",
   "pygments_lexer": "ipython3",
   "version": "3.13.1"
  }
 },
 "nbformat": 4,
 "nbformat_minor": 4
}
